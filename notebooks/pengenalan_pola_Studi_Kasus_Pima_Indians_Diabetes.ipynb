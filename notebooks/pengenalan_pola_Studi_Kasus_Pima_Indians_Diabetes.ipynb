{
  "nbformat": 4,
  "nbformat_minor": 0,
  "metadata": {
    "colab": {
      "provenance": [],
      "collapsed_sections": [
        "YVfSksXrJYts",
        "mdNqepxBJdCS",
        "MxGJtedgKKYP",
        "WSHXyPeMLcnQ",
        "l9tbblNJLvKX",
        "xVsqeh6yMFgU"
      ],
      "toc_visible": true,
      "include_colab_link": true
    },
    "kernelspec": {
      "name": "python3",
      "display_name": "Python 3"
    },
    "language_info": {
      "name": "python"
    }
  },
  "cells": [
    {
      "cell_type": "markdown",
      "metadata": {
        "id": "view-in-github",
        "colab_type": "text"
      },
      "source": [
        "<a href=\"https://colab.research.google.com/github/LinggarM/Pima-Indians-Diabetes-Classification-using-Various-Supervised-Algorithms/blob/main/pengenalan_pola_Studi_Kasus_Pima_Indians_Diabetes.ipynb\" target=\"_parent\"><img src=\"https://colab.research.google.com/assets/colab-badge.svg\" alt=\"Open In Colab\"/></a>"
      ]
    },
    {
      "cell_type": "markdown",
      "source": [
        "## Data Preparation"
      ],
      "metadata": {
        "id": "3dQQnbaRQyuu"
      }
    },
    {
      "cell_type": "code",
      "metadata": {
        "colab": {
          "base_uri": "https://localhost:8080/"
        },
        "id": "Y9c0bd083zcr",
        "outputId": "974a3ac3-cf1c-4e66-a11d-ad96882904ee"
      },
      "source": [
        "from google.colab import drive\n",
        "\n",
        "drive.mount('/content/gdrive/')"
      ],
      "execution_count": null,
      "outputs": [
        {
          "output_type": "stream",
          "text": [
            "Mounted at /content/gdrive/\n"
          ],
          "name": "stdout"
        }
      ]
    },
    {
      "cell_type": "code",
      "metadata": {
        "id": "SnAf0mZQ6Pj4"
      },
      "source": [
        "import pandas as pd\n",
        "\n",
        "df_diabetes = pd.read_csv('/content/gdrive/MyDrive/Upload/Akademik/Pengenalan Pola/diabetes.csv')"
      ],
      "execution_count": null,
      "outputs": []
    },
    {
      "cell_type": "markdown",
      "source": [
        "## Data Exploration"
      ],
      "metadata": {
        "id": "pDhmvM4uQ1_a"
      }
    },
    {
      "cell_type": "code",
      "metadata": {
        "colab": {
          "base_uri": "https://localhost:8080/",
          "height": 204
        },
        "id": "bpSTDDL5AsTJ",
        "outputId": "61d3a0bf-cf6b-4676-b02f-432099b87fea"
      },
      "source": [
        "df_diabetes.head()"
      ],
      "execution_count": null,
      "outputs": [
        {
          "output_type": "execute_result",
          "data": {
            "text/html": [
              "<div>\n",
              "<style scoped>\n",
              "    .dataframe tbody tr th:only-of-type {\n",
              "        vertical-align: middle;\n",
              "    }\n",
              "\n",
              "    .dataframe tbody tr th {\n",
              "        vertical-align: top;\n",
              "    }\n",
              "\n",
              "    .dataframe thead th {\n",
              "        text-align: right;\n",
              "    }\n",
              "</style>\n",
              "<table border=\"1\" class=\"dataframe\">\n",
              "  <thead>\n",
              "    <tr style=\"text-align: right;\">\n",
              "      <th></th>\n",
              "      <th>Pregnancies</th>\n",
              "      <th>Glucose</th>\n",
              "      <th>BloodPressure</th>\n",
              "      <th>SkinThickness</th>\n",
              "      <th>Insulin</th>\n",
              "      <th>BMI</th>\n",
              "      <th>DiabetesPedigreeFunction</th>\n",
              "      <th>Age</th>\n",
              "      <th>Outcome</th>\n",
              "    </tr>\n",
              "  </thead>\n",
              "  <tbody>\n",
              "    <tr>\n",
              "      <th>0</th>\n",
              "      <td>6</td>\n",
              "      <td>148</td>\n",
              "      <td>72</td>\n",
              "      <td>35</td>\n",
              "      <td>0</td>\n",
              "      <td>33.6</td>\n",
              "      <td>0.627</td>\n",
              "      <td>50</td>\n",
              "      <td>1</td>\n",
              "    </tr>\n",
              "    <tr>\n",
              "      <th>1</th>\n",
              "      <td>1</td>\n",
              "      <td>85</td>\n",
              "      <td>66</td>\n",
              "      <td>29</td>\n",
              "      <td>0</td>\n",
              "      <td>26.6</td>\n",
              "      <td>0.351</td>\n",
              "      <td>31</td>\n",
              "      <td>0</td>\n",
              "    </tr>\n",
              "    <tr>\n",
              "      <th>2</th>\n",
              "      <td>8</td>\n",
              "      <td>183</td>\n",
              "      <td>64</td>\n",
              "      <td>0</td>\n",
              "      <td>0</td>\n",
              "      <td>23.3</td>\n",
              "      <td>0.672</td>\n",
              "      <td>32</td>\n",
              "      <td>1</td>\n",
              "    </tr>\n",
              "    <tr>\n",
              "      <th>3</th>\n",
              "      <td>1</td>\n",
              "      <td>89</td>\n",
              "      <td>66</td>\n",
              "      <td>23</td>\n",
              "      <td>94</td>\n",
              "      <td>28.1</td>\n",
              "      <td>0.167</td>\n",
              "      <td>21</td>\n",
              "      <td>0</td>\n",
              "    </tr>\n",
              "    <tr>\n",
              "      <th>4</th>\n",
              "      <td>0</td>\n",
              "      <td>137</td>\n",
              "      <td>40</td>\n",
              "      <td>35</td>\n",
              "      <td>168</td>\n",
              "      <td>43.1</td>\n",
              "      <td>2.288</td>\n",
              "      <td>33</td>\n",
              "      <td>1</td>\n",
              "    </tr>\n",
              "  </tbody>\n",
              "</table>\n",
              "</div>"
            ],
            "text/plain": [
              "   Pregnancies  Glucose  BloodPressure  ...  DiabetesPedigreeFunction  Age  Outcome\n",
              "0            6      148             72  ...                     0.627   50        1\n",
              "1            1       85             66  ...                     0.351   31        0\n",
              "2            8      183             64  ...                     0.672   32        1\n",
              "3            1       89             66  ...                     0.167   21        0\n",
              "4            0      137             40  ...                     2.288   33        1\n",
              "\n",
              "[5 rows x 9 columns]"
            ]
          },
          "metadata": {
            "tags": []
          },
          "execution_count": 14
        }
      ]
    },
    {
      "cell_type": "code",
      "metadata": {
        "colab": {
          "base_uri": "https://localhost:8080/"
        },
        "id": "sxEzLBf0AnPa",
        "outputId": "d713afbe-e2c2-4d1e-803a-48b18f109088"
      },
      "source": [
        "df_diabetes.info()"
      ],
      "execution_count": null,
      "outputs": [
        {
          "output_type": "stream",
          "text": [
            "<class 'pandas.core.frame.DataFrame'>\n",
            "RangeIndex: 768 entries, 0 to 767\n",
            "Data columns (total 9 columns):\n",
            " #   Column                    Non-Null Count  Dtype  \n",
            "---  ------                    --------------  -----  \n",
            " 0   Pregnancies               768 non-null    int64  \n",
            " 1   Glucose                   768 non-null    int64  \n",
            " 2   BloodPressure             768 non-null    int64  \n",
            " 3   SkinThickness             768 non-null    int64  \n",
            " 4   Insulin                   768 non-null    int64  \n",
            " 5   BMI                       768 non-null    float64\n",
            " 6   DiabetesPedigreeFunction  768 non-null    float64\n",
            " 7   Age                       768 non-null    int64  \n",
            " 8   Outcome                   768 non-null    int64  \n",
            "dtypes: float64(2), int64(7)\n",
            "memory usage: 54.1 KB\n"
          ],
          "name": "stdout"
        }
      ]
    },
    {
      "cell_type": "code",
      "metadata": {
        "colab": {
          "base_uri": "https://localhost:8080/",
          "height": 297
        },
        "id": "mTbu2GHyAvLq",
        "outputId": "c3e7024c-64dc-4dc2-bd98-8286d3c263e0"
      },
      "source": [
        "df_diabetes.describe()"
      ],
      "execution_count": null,
      "outputs": [
        {
          "output_type": "execute_result",
          "data": {
            "text/html": [
              "<div>\n",
              "<style scoped>\n",
              "    .dataframe tbody tr th:only-of-type {\n",
              "        vertical-align: middle;\n",
              "    }\n",
              "\n",
              "    .dataframe tbody tr th {\n",
              "        vertical-align: top;\n",
              "    }\n",
              "\n",
              "    .dataframe thead th {\n",
              "        text-align: right;\n",
              "    }\n",
              "</style>\n",
              "<table border=\"1\" class=\"dataframe\">\n",
              "  <thead>\n",
              "    <tr style=\"text-align: right;\">\n",
              "      <th></th>\n",
              "      <th>Pregnancies</th>\n",
              "      <th>Glucose</th>\n",
              "      <th>BloodPressure</th>\n",
              "      <th>SkinThickness</th>\n",
              "      <th>Insulin</th>\n",
              "      <th>BMI</th>\n",
              "      <th>DiabetesPedigreeFunction</th>\n",
              "      <th>Age</th>\n",
              "      <th>Outcome</th>\n",
              "    </tr>\n",
              "  </thead>\n",
              "  <tbody>\n",
              "    <tr>\n",
              "      <th>count</th>\n",
              "      <td>768.000000</td>\n",
              "      <td>768.000000</td>\n",
              "      <td>768.000000</td>\n",
              "      <td>768.000000</td>\n",
              "      <td>768.000000</td>\n",
              "      <td>768.000000</td>\n",
              "      <td>768.000000</td>\n",
              "      <td>768.000000</td>\n",
              "      <td>768.000000</td>\n",
              "    </tr>\n",
              "    <tr>\n",
              "      <th>mean</th>\n",
              "      <td>3.845052</td>\n",
              "      <td>120.894531</td>\n",
              "      <td>69.105469</td>\n",
              "      <td>20.536458</td>\n",
              "      <td>79.799479</td>\n",
              "      <td>31.992578</td>\n",
              "      <td>0.471876</td>\n",
              "      <td>33.240885</td>\n",
              "      <td>0.348958</td>\n",
              "    </tr>\n",
              "    <tr>\n",
              "      <th>std</th>\n",
              "      <td>3.369578</td>\n",
              "      <td>31.972618</td>\n",
              "      <td>19.355807</td>\n",
              "      <td>15.952218</td>\n",
              "      <td>115.244002</td>\n",
              "      <td>7.884160</td>\n",
              "      <td>0.331329</td>\n",
              "      <td>11.760232</td>\n",
              "      <td>0.476951</td>\n",
              "    </tr>\n",
              "    <tr>\n",
              "      <th>min</th>\n",
              "      <td>0.000000</td>\n",
              "      <td>0.000000</td>\n",
              "      <td>0.000000</td>\n",
              "      <td>0.000000</td>\n",
              "      <td>0.000000</td>\n",
              "      <td>0.000000</td>\n",
              "      <td>0.078000</td>\n",
              "      <td>21.000000</td>\n",
              "      <td>0.000000</td>\n",
              "    </tr>\n",
              "    <tr>\n",
              "      <th>25%</th>\n",
              "      <td>1.000000</td>\n",
              "      <td>99.000000</td>\n",
              "      <td>62.000000</td>\n",
              "      <td>0.000000</td>\n",
              "      <td>0.000000</td>\n",
              "      <td>27.300000</td>\n",
              "      <td>0.243750</td>\n",
              "      <td>24.000000</td>\n",
              "      <td>0.000000</td>\n",
              "    </tr>\n",
              "    <tr>\n",
              "      <th>50%</th>\n",
              "      <td>3.000000</td>\n",
              "      <td>117.000000</td>\n",
              "      <td>72.000000</td>\n",
              "      <td>23.000000</td>\n",
              "      <td>30.500000</td>\n",
              "      <td>32.000000</td>\n",
              "      <td>0.372500</td>\n",
              "      <td>29.000000</td>\n",
              "      <td>0.000000</td>\n",
              "    </tr>\n",
              "    <tr>\n",
              "      <th>75%</th>\n",
              "      <td>6.000000</td>\n",
              "      <td>140.250000</td>\n",
              "      <td>80.000000</td>\n",
              "      <td>32.000000</td>\n",
              "      <td>127.250000</td>\n",
              "      <td>36.600000</td>\n",
              "      <td>0.626250</td>\n",
              "      <td>41.000000</td>\n",
              "      <td>1.000000</td>\n",
              "    </tr>\n",
              "    <tr>\n",
              "      <th>max</th>\n",
              "      <td>17.000000</td>\n",
              "      <td>199.000000</td>\n",
              "      <td>122.000000</td>\n",
              "      <td>99.000000</td>\n",
              "      <td>846.000000</td>\n",
              "      <td>67.100000</td>\n",
              "      <td>2.420000</td>\n",
              "      <td>81.000000</td>\n",
              "      <td>1.000000</td>\n",
              "    </tr>\n",
              "  </tbody>\n",
              "</table>\n",
              "</div>"
            ],
            "text/plain": [
              "       Pregnancies     Glucose  ...         Age     Outcome\n",
              "count   768.000000  768.000000  ...  768.000000  768.000000\n",
              "mean      3.845052  120.894531  ...   33.240885    0.348958\n",
              "std       3.369578   31.972618  ...   11.760232    0.476951\n",
              "min       0.000000    0.000000  ...   21.000000    0.000000\n",
              "25%       1.000000   99.000000  ...   24.000000    0.000000\n",
              "50%       3.000000  117.000000  ...   29.000000    0.000000\n",
              "75%       6.000000  140.250000  ...   41.000000    1.000000\n",
              "max      17.000000  199.000000  ...   81.000000    1.000000\n",
              "\n",
              "[8 rows x 9 columns]"
            ]
          },
          "metadata": {
            "tags": []
          },
          "execution_count": 15
        }
      ]
    },
    {
      "cell_type": "markdown",
      "source": [
        "## Data Preprocessing"
      ],
      "metadata": {
        "id": "yJqqaeQDQ95n"
      }
    },
    {
      "cell_type": "code",
      "metadata": {
        "id": "fsARVsknBslP"
      },
      "source": [
        "# memisahkan atribut fitur (selain target/ kelas prediksi)\n",
        "x = df_diabetes[df_diabetes.columns[:8]]\n",
        "\n",
        "# memisahkan target/ kelas prediksi (0 dan 1)\n",
        "y = df_diabetes['Outcome']"
      ],
      "execution_count": null,
      "outputs": []
    },
    {
      "cell_type": "code",
      "metadata": {
        "id": "d02SAixMA_aQ"
      },
      "source": [
        "# melakukan standarisasi nilai fitur\n",
        "from sklearn.preprocessing import StandardScaler\n",
        "\n",
        "scaler = StandardScaler()\n",
        "scaler.fit(x)\n",
        "x_transformed = scaler.transform(x)"
      ],
      "execution_count": null,
      "outputs": []
    },
    {
      "cell_type": "code",
      "metadata": {
        "id": "kQxUsJOOR79e"
      },
      "source": [
        "x_df_transformed = pd.DataFrame(scaler.transform(x),columns = x.columns)"
      ],
      "execution_count": null,
      "outputs": []
    },
    {
      "cell_type": "code",
      "metadata": {
        "colab": {
          "base_uri": "https://localhost:8080/",
          "height": 419
        },
        "id": "BGTeT4dzSH4k",
        "outputId": "edbbbc3d-da9f-42e7-96b1-7961ccd6a9b4"
      },
      "source": [
        "x_df_transformed"
      ],
      "execution_count": null,
      "outputs": [
        {
          "output_type": "execute_result",
          "data": {
            "text/html": [
              "<div>\n",
              "<style scoped>\n",
              "    .dataframe tbody tr th:only-of-type {\n",
              "        vertical-align: middle;\n",
              "    }\n",
              "\n",
              "    .dataframe tbody tr th {\n",
              "        vertical-align: top;\n",
              "    }\n",
              "\n",
              "    .dataframe thead th {\n",
              "        text-align: right;\n",
              "    }\n",
              "</style>\n",
              "<table border=\"1\" class=\"dataframe\">\n",
              "  <thead>\n",
              "    <tr style=\"text-align: right;\">\n",
              "      <th></th>\n",
              "      <th>Pregnancies</th>\n",
              "      <th>Glucose</th>\n",
              "      <th>BloodPressure</th>\n",
              "      <th>SkinThickness</th>\n",
              "      <th>Insulin</th>\n",
              "      <th>BMI</th>\n",
              "      <th>DiabetesPedigreeFunction</th>\n",
              "      <th>Age</th>\n",
              "    </tr>\n",
              "  </thead>\n",
              "  <tbody>\n",
              "    <tr>\n",
              "      <th>0</th>\n",
              "      <td>0.639947</td>\n",
              "      <td>0.848324</td>\n",
              "      <td>0.149641</td>\n",
              "      <td>0.907270</td>\n",
              "      <td>-0.692891</td>\n",
              "      <td>0.204013</td>\n",
              "      <td>0.468492</td>\n",
              "      <td>1.425995</td>\n",
              "    </tr>\n",
              "    <tr>\n",
              "      <th>1</th>\n",
              "      <td>-0.844885</td>\n",
              "      <td>-1.123396</td>\n",
              "      <td>-0.160546</td>\n",
              "      <td>0.530902</td>\n",
              "      <td>-0.692891</td>\n",
              "      <td>-0.684422</td>\n",
              "      <td>-0.365061</td>\n",
              "      <td>-0.190672</td>\n",
              "    </tr>\n",
              "    <tr>\n",
              "      <th>2</th>\n",
              "      <td>1.233880</td>\n",
              "      <td>1.943724</td>\n",
              "      <td>-0.263941</td>\n",
              "      <td>-1.288212</td>\n",
              "      <td>-0.692891</td>\n",
              "      <td>-1.103255</td>\n",
              "      <td>0.604397</td>\n",
              "      <td>-0.105584</td>\n",
              "    </tr>\n",
              "    <tr>\n",
              "      <th>3</th>\n",
              "      <td>-0.844885</td>\n",
              "      <td>-0.998208</td>\n",
              "      <td>-0.160546</td>\n",
              "      <td>0.154533</td>\n",
              "      <td>0.123302</td>\n",
              "      <td>-0.494043</td>\n",
              "      <td>-0.920763</td>\n",
              "      <td>-1.041549</td>\n",
              "    </tr>\n",
              "    <tr>\n",
              "      <th>4</th>\n",
              "      <td>-1.141852</td>\n",
              "      <td>0.504055</td>\n",
              "      <td>-1.504687</td>\n",
              "      <td>0.907270</td>\n",
              "      <td>0.765836</td>\n",
              "      <td>1.409746</td>\n",
              "      <td>5.484909</td>\n",
              "      <td>-0.020496</td>\n",
              "    </tr>\n",
              "    <tr>\n",
              "      <th>...</th>\n",
              "      <td>...</td>\n",
              "      <td>...</td>\n",
              "      <td>...</td>\n",
              "      <td>...</td>\n",
              "      <td>...</td>\n",
              "      <td>...</td>\n",
              "      <td>...</td>\n",
              "      <td>...</td>\n",
              "    </tr>\n",
              "    <tr>\n",
              "      <th>763</th>\n",
              "      <td>1.827813</td>\n",
              "      <td>-0.622642</td>\n",
              "      <td>0.356432</td>\n",
              "      <td>1.722735</td>\n",
              "      <td>0.870031</td>\n",
              "      <td>0.115169</td>\n",
              "      <td>-0.908682</td>\n",
              "      <td>2.532136</td>\n",
              "    </tr>\n",
              "    <tr>\n",
              "      <th>764</th>\n",
              "      <td>-0.547919</td>\n",
              "      <td>0.034598</td>\n",
              "      <td>0.046245</td>\n",
              "      <td>0.405445</td>\n",
              "      <td>-0.692891</td>\n",
              "      <td>0.610154</td>\n",
              "      <td>-0.398282</td>\n",
              "      <td>-0.531023</td>\n",
              "    </tr>\n",
              "    <tr>\n",
              "      <th>765</th>\n",
              "      <td>0.342981</td>\n",
              "      <td>0.003301</td>\n",
              "      <td>0.149641</td>\n",
              "      <td>0.154533</td>\n",
              "      <td>0.279594</td>\n",
              "      <td>-0.735190</td>\n",
              "      <td>-0.685193</td>\n",
              "      <td>-0.275760</td>\n",
              "    </tr>\n",
              "    <tr>\n",
              "      <th>766</th>\n",
              "      <td>-0.844885</td>\n",
              "      <td>0.159787</td>\n",
              "      <td>-0.470732</td>\n",
              "      <td>-1.288212</td>\n",
              "      <td>-0.692891</td>\n",
              "      <td>-0.240205</td>\n",
              "      <td>-0.371101</td>\n",
              "      <td>1.170732</td>\n",
              "    </tr>\n",
              "    <tr>\n",
              "      <th>767</th>\n",
              "      <td>-0.844885</td>\n",
              "      <td>-0.873019</td>\n",
              "      <td>0.046245</td>\n",
              "      <td>0.656358</td>\n",
              "      <td>-0.692891</td>\n",
              "      <td>-0.202129</td>\n",
              "      <td>-0.473785</td>\n",
              "      <td>-0.871374</td>\n",
              "    </tr>\n",
              "  </tbody>\n",
              "</table>\n",
              "<p>768 rows × 8 columns</p>\n",
              "</div>"
            ],
            "text/plain": [
              "     Pregnancies   Glucose  ...  DiabetesPedigreeFunction       Age\n",
              "0       0.639947  0.848324  ...                  0.468492  1.425995\n",
              "1      -0.844885 -1.123396  ...                 -0.365061 -0.190672\n",
              "2       1.233880  1.943724  ...                  0.604397 -0.105584\n",
              "3      -0.844885 -0.998208  ...                 -0.920763 -1.041549\n",
              "4      -1.141852  0.504055  ...                  5.484909 -0.020496\n",
              "..           ...       ...  ...                       ...       ...\n",
              "763     1.827813 -0.622642  ...                 -0.908682  2.532136\n",
              "764    -0.547919  0.034598  ...                 -0.398282 -0.531023\n",
              "765     0.342981  0.003301  ...                 -0.685193 -0.275760\n",
              "766    -0.844885  0.159787  ...                 -0.371101  1.170732\n",
              "767    -0.844885 -0.873019  ...                 -0.473785 -0.871374\n",
              "\n",
              "[768 rows x 8 columns]"
            ]
          },
          "metadata": {
            "tags": []
          },
          "execution_count": 66
        }
      ]
    },
    {
      "cell_type": "markdown",
      "source": [
        "## Data Splitting"
      ],
      "metadata": {
        "id": "Hp5HC-1BQ_dj"
      }
    },
    {
      "cell_type": "code",
      "metadata": {
        "id": "Fe6NvS5yCetH"
      },
      "source": [
        "# memisahkan data untuk training dan testing\n",
        "from sklearn.model_selection import train_test_split\n",
        "\n",
        "x_train, x_test, y_train, y_test = train_test_split(x_transformed, y, test_size=0.25, random_state=0)"
      ],
      "execution_count": null,
      "outputs": []
    },
    {
      "cell_type": "markdown",
      "source": [
        "## Training Preparation"
      ],
      "metadata": {
        "id": "ZeZhX4uORBAT"
      }
    },
    {
      "cell_type": "code",
      "metadata": {
        "id": "fHXr4KWwBfax"
      },
      "source": [
        "from time import time\n",
        "from sklearn.model_selection import train_test_split\n",
        "from keras.models import Sequential\n",
        "from keras.layers import Dense, Activation, Flatten\n",
        "from sklearn.ensemble import RandomForestClassifier\n",
        "from sklearn.metrics import f1_score\n",
        "from sklearn.metrics import accuracy_score\n",
        "from keras.callbacks import ModelCheckpoint"
      ],
      "execution_count": null,
      "outputs": []
    },
    {
      "cell_type": "code",
      "metadata": {
        "id": "0wgJmHieCVzw"
      },
      "source": [
        "parameters = {'bootstrap': True,\n",
        "              'min_samples_leaf': 3,\n",
        "              'n_estimators': 50,\n",
        "              'min_samples_split': 10,\n",
        "              'max_features': 'sqrt',\n",
        "              'max_depth': 6,\n",
        "              'max_leaf_nodes': None}"
      ],
      "execution_count": null,
      "outputs": []
    },
    {
      "cell_type": "markdown",
      "metadata": {
        "id": "YVfSksXrJYts"
      },
      "source": [
        "## **Using Random Forest**"
      ]
    },
    {
      "cell_type": "code",
      "metadata": {
        "id": "MQRKmvzGI_mk"
      },
      "source": [
        "RF_model = RandomForestClassifier(**parameters)"
      ],
      "execution_count": null,
      "outputs": []
    },
    {
      "cell_type": "code",
      "metadata": {
        "colab": {
          "base_uri": "https://localhost:8080/"
        },
        "id": "K9EiVq25JLBr",
        "outputId": "b2c1f972-8625-418e-e098-e2a0e75b68c6"
      },
      "source": [
        "RF_model.fit(x_train, y_train)"
      ],
      "execution_count": null,
      "outputs": [
        {
          "output_type": "execute_result",
          "data": {
            "text/plain": [
              "RandomForestClassifier(bootstrap=True, ccp_alpha=0.0, class_weight=None,\n",
              "                       criterion='gini', max_depth=6, max_features='sqrt',\n",
              "                       max_leaf_nodes=None, max_samples=None,\n",
              "                       min_impurity_decrease=0.0, min_impurity_split=None,\n",
              "                       min_samples_leaf=3, min_samples_split=10,\n",
              "                       min_weight_fraction_leaf=0.0, n_estimators=50,\n",
              "                       n_jobs=None, oob_score=False, random_state=None,\n",
              "                       verbose=0, warm_start=False)"
            ]
          },
          "metadata": {
            "tags": []
          },
          "execution_count": 31
        }
      ]
    },
    {
      "cell_type": "code",
      "metadata": {
        "id": "dSVkxcz5JPxD"
      },
      "source": [
        "RF_predictions = RF_model.predict(x_test)"
      ],
      "execution_count": null,
      "outputs": []
    },
    {
      "cell_type": "code",
      "metadata": {
        "colab": {
          "base_uri": "https://localhost:8080/"
        },
        "id": "o-MDOvtNJTdq",
        "outputId": "50c29aeb-d184-4b40-8583-3f1640ecbdc2"
      },
      "source": [
        "score = accuracy_score(y_test ,RF_predictions)\n",
        "print('Accuracy Random Forest Model:',score)"
      ],
      "execution_count": null,
      "outputs": [
        {
          "output_type": "stream",
          "text": [
            "Accuracy Random Forest Model: 0.78125\n"
          ],
          "name": "stdout"
        }
      ]
    },
    {
      "cell_type": "markdown",
      "metadata": {
        "id": "mdNqepxBJdCS"
      },
      "source": [
        "## **Using Neural Network**"
      ]
    },
    {
      "cell_type": "code",
      "metadata": {
        "id": "R0qTQNL7Je_M"
      },
      "source": [
        "# Build a neural network :\n",
        "NN_model = Sequential()\n",
        "\n",
        "NN_model.add(Dense(256, input_dim = x_transformed.shape[1], activation='relu'))\n",
        "NN_model.add(Dense(256, activation='relu'))\n",
        "NN_model.add(Dense(256, activation='relu'))\n",
        "NN_model.add(Dense(256, activation='relu'))\n",
        "NN_model.add(Dense(1, activation='sigmoid'))\n",
        "NN_model.compile(loss='binary_crossentropy', optimizer='adam', metrics=['accuracy'])"
      ],
      "execution_count": null,
      "outputs": []
    },
    {
      "cell_type": "code",
      "metadata": {
        "id": "lNxKZucQJjJy"
      },
      "source": [
        "checkpoint_name = 'BestWeights.hdf5'\n",
        "checkpoint = ModelCheckpoint(checkpoint_name, monitor='val_accuracy', verbose = 1, save_best_only = True, mode ='max')\n",
        "callbacks_list = [checkpoint]"
      ],
      "execution_count": null,
      "outputs": []
    },
    {
      "cell_type": "code",
      "metadata": {
        "colab": {
          "base_uri": "https://localhost:8080/"
        },
        "id": "0BM-T1nkJyRV",
        "outputId": "79d0f239-bbe9-4c3b-ceae-8ee53bc53176"
      },
      "source": [
        "t0_nn = time()\n",
        "NN_model.fit(x_train, y_train, epochs=150, batch_size=64, validation_split = 0.2, callbacks=callbacks_list)\n",
        "train_test_time = time() - t0_nn"
      ],
      "execution_count": null,
      "outputs": [
        {
          "output_type": "stream",
          "text": [
            "Epoch 1/150\n",
            "8/8 [==============================] - 1s 34ms/step - loss: 0.6538 - accuracy: 0.5725 - val_loss: 0.4887 - val_accuracy: 0.7931\n",
            "\n",
            "Epoch 00001: val_accuracy improved from -inf to 0.79310, saving model to BestWeights.hdf5\n",
            "Epoch 2/150\n",
            "8/8 [==============================] - 0s 10ms/step - loss: 0.5034 - accuracy: 0.7602 - val_loss: 0.5040 - val_accuracy: 0.8276\n",
            "\n",
            "Epoch 00002: val_accuracy improved from 0.79310 to 0.82759, saving model to BestWeights.hdf5\n",
            "Epoch 3/150\n",
            "8/8 [==============================] - 0s 10ms/step - loss: 0.4609 - accuracy: 0.7739 - val_loss: 0.5008 - val_accuracy: 0.8017\n",
            "\n",
            "Epoch 00003: val_accuracy did not improve from 0.82759\n",
            "Epoch 4/150\n",
            "8/8 [==============================] - 0s 9ms/step - loss: 0.4272 - accuracy: 0.7936 - val_loss: 0.5135 - val_accuracy: 0.8190\n",
            "\n",
            "Epoch 00004: val_accuracy did not improve from 0.82759\n",
            "Epoch 5/150\n",
            "8/8 [==============================] - 0s 10ms/step - loss: 0.4255 - accuracy: 0.7912 - val_loss: 0.5354 - val_accuracy: 0.7845\n",
            "\n",
            "Epoch 00005: val_accuracy did not improve from 0.82759\n",
            "Epoch 6/150\n",
            "8/8 [==============================] - 0s 10ms/step - loss: 0.3790 - accuracy: 0.8098 - val_loss: 0.5223 - val_accuracy: 0.7759\n",
            "\n",
            "Epoch 00006: val_accuracy did not improve from 0.82759\n",
            "Epoch 7/150\n",
            "8/8 [==============================] - 0s 9ms/step - loss: 0.3979 - accuracy: 0.8256 - val_loss: 0.6206 - val_accuracy: 0.7500\n",
            "\n",
            "Epoch 00007: val_accuracy did not improve from 0.82759\n",
            "Epoch 8/150\n",
            "8/8 [==============================] - 0s 9ms/step - loss: 0.4063 - accuracy: 0.7848 - val_loss: 0.5305 - val_accuracy: 0.7845\n",
            "\n",
            "Epoch 00008: val_accuracy did not improve from 0.82759\n",
            "Epoch 9/150\n",
            "8/8 [==============================] - 0s 9ms/step - loss: 0.3546 - accuracy: 0.8448 - val_loss: 0.6209 - val_accuracy: 0.7759\n",
            "\n",
            "Epoch 00009: val_accuracy did not improve from 0.82759\n",
            "Epoch 10/150\n",
            "8/8 [==============================] - 0s 9ms/step - loss: 0.3533 - accuracy: 0.8250 - val_loss: 0.5883 - val_accuracy: 0.7500\n",
            "\n",
            "Epoch 00010: val_accuracy did not improve from 0.82759\n",
            "Epoch 11/150\n",
            "8/8 [==============================] - 0s 9ms/step - loss: 0.3379 - accuracy: 0.8318 - val_loss: 0.6570 - val_accuracy: 0.7586\n",
            "\n",
            "Epoch 00011: val_accuracy did not improve from 0.82759\n",
            "Epoch 12/150\n",
            "8/8 [==============================] - 0s 9ms/step - loss: 0.3344 - accuracy: 0.8524 - val_loss: 0.6780 - val_accuracy: 0.7414\n",
            "\n",
            "Epoch 00012: val_accuracy did not improve from 0.82759\n",
            "Epoch 13/150\n",
            "8/8 [==============================] - 0s 9ms/step - loss: 0.2801 - accuracy: 0.8717 - val_loss: 0.7396 - val_accuracy: 0.7500\n",
            "\n",
            "Epoch 00013: val_accuracy did not improve from 0.82759\n",
            "Epoch 14/150\n",
            "8/8 [==============================] - 0s 9ms/step - loss: 0.3110 - accuracy: 0.8627 - val_loss: 0.6948 - val_accuracy: 0.7845\n",
            "\n",
            "Epoch 00014: val_accuracy did not improve from 0.82759\n",
            "Epoch 15/150\n",
            "8/8 [==============================] - 0s 11ms/step - loss: 0.2984 - accuracy: 0.8550 - val_loss: 0.7815 - val_accuracy: 0.7500\n",
            "\n",
            "Epoch 00015: val_accuracy did not improve from 0.82759\n",
            "Epoch 16/150\n",
            "8/8 [==============================] - 0s 9ms/step - loss: 0.2838 - accuracy: 0.8649 - val_loss: 0.8497 - val_accuracy: 0.7500\n",
            "\n",
            "Epoch 00016: val_accuracy did not improve from 0.82759\n",
            "Epoch 17/150\n",
            "8/8 [==============================] - 0s 9ms/step - loss: 0.2469 - accuracy: 0.8880 - val_loss: 0.7946 - val_accuracy: 0.7414\n",
            "\n",
            "Epoch 00017: val_accuracy did not improve from 0.82759\n",
            "Epoch 18/150\n",
            "8/8 [==============================] - 0s 9ms/step - loss: 0.2456 - accuracy: 0.8884 - val_loss: 0.8863 - val_accuracy: 0.7414\n",
            "\n",
            "Epoch 00018: val_accuracy did not improve from 0.82759\n",
            "Epoch 19/150\n",
            "8/8 [==============================] - 0s 10ms/step - loss: 0.2034 - accuracy: 0.9095 - val_loss: 0.9655 - val_accuracy: 0.7241\n",
            "\n",
            "Epoch 00019: val_accuracy did not improve from 0.82759\n",
            "Epoch 20/150\n",
            "8/8 [==============================] - 0s 9ms/step - loss: 0.1902 - accuracy: 0.9087 - val_loss: 1.1051 - val_accuracy: 0.7241\n",
            "\n",
            "Epoch 00020: val_accuracy did not improve from 0.82759\n",
            "Epoch 21/150\n",
            "8/8 [==============================] - 0s 9ms/step - loss: 0.1824 - accuracy: 0.9167 - val_loss: 1.1601 - val_accuracy: 0.7328\n",
            "\n",
            "Epoch 00021: val_accuracy did not improve from 0.82759\n",
            "Epoch 22/150\n",
            "8/8 [==============================] - 0s 10ms/step - loss: 0.1658 - accuracy: 0.9301 - val_loss: 1.1409 - val_accuracy: 0.6466\n",
            "\n",
            "Epoch 00022: val_accuracy did not improve from 0.82759\n",
            "Epoch 23/150\n",
            "8/8 [==============================] - 0s 9ms/step - loss: 0.1735 - accuracy: 0.9300 - val_loss: 1.2278 - val_accuracy: 0.7155\n",
            "\n",
            "Epoch 00023: val_accuracy did not improve from 0.82759\n",
            "Epoch 24/150\n",
            "8/8 [==============================] - 0s 10ms/step - loss: 0.1550 - accuracy: 0.9377 - val_loss: 1.3513 - val_accuracy: 0.7241\n",
            "\n",
            "Epoch 00024: val_accuracy did not improve from 0.82759\n",
            "Epoch 25/150\n",
            "8/8 [==============================] - 0s 9ms/step - loss: 0.1551 - accuracy: 0.9246 - val_loss: 1.3822 - val_accuracy: 0.6810\n",
            "\n",
            "Epoch 00025: val_accuracy did not improve from 0.82759\n",
            "Epoch 26/150\n",
            "8/8 [==============================] - 0s 9ms/step - loss: 0.1210 - accuracy: 0.9607 - val_loss: 1.2253 - val_accuracy: 0.6897\n",
            "\n",
            "Epoch 00026: val_accuracy did not improve from 0.82759\n",
            "Epoch 27/150\n",
            "8/8 [==============================] - 0s 9ms/step - loss: 0.1509 - accuracy: 0.9371 - val_loss: 1.3939 - val_accuracy: 0.6983\n",
            "\n",
            "Epoch 00027: val_accuracy did not improve from 0.82759\n",
            "Epoch 28/150\n",
            "8/8 [==============================] - 0s 10ms/step - loss: 0.1011 - accuracy: 0.9667 - val_loss: 1.6218 - val_accuracy: 0.6638\n",
            "\n",
            "Epoch 00028: val_accuracy did not improve from 0.82759\n",
            "Epoch 29/150\n",
            "8/8 [==============================] - 0s 10ms/step - loss: 0.0871 - accuracy: 0.9701 - val_loss: 1.5658 - val_accuracy: 0.7241\n",
            "\n",
            "Epoch 00029: val_accuracy did not improve from 0.82759\n",
            "Epoch 30/150\n",
            "8/8 [==============================] - 0s 9ms/step - loss: 0.0710 - accuracy: 0.9799 - val_loss: 1.6902 - val_accuracy: 0.6552\n",
            "\n",
            "Epoch 00030: val_accuracy did not improve from 0.82759\n",
            "Epoch 31/150\n",
            "8/8 [==============================] - 0s 9ms/step - loss: 0.0670 - accuracy: 0.9834 - val_loss: 1.7785 - val_accuracy: 0.6466\n",
            "\n",
            "Epoch 00031: val_accuracy did not improve from 0.82759\n",
            "Epoch 32/150\n",
            "8/8 [==============================] - 0s 9ms/step - loss: 0.0645 - accuracy: 0.9747 - val_loss: 1.9690 - val_accuracy: 0.6724\n",
            "\n",
            "Epoch 00032: val_accuracy did not improve from 0.82759\n",
            "Epoch 33/150\n",
            "8/8 [==============================] - 0s 9ms/step - loss: 0.0642 - accuracy: 0.9740 - val_loss: 2.1355 - val_accuracy: 0.6897\n",
            "\n",
            "Epoch 00033: val_accuracy did not improve from 0.82759\n",
            "Epoch 34/150\n",
            "8/8 [==============================] - 0s 9ms/step - loss: 0.0444 - accuracy: 0.9893 - val_loss: 1.9283 - val_accuracy: 0.6638\n",
            "\n",
            "Epoch 00034: val_accuracy did not improve from 0.82759\n",
            "Epoch 35/150\n",
            "8/8 [==============================] - 0s 9ms/step - loss: 0.0434 - accuracy: 0.9829 - val_loss: 2.1278 - val_accuracy: 0.6552\n",
            "\n",
            "Epoch 00035: val_accuracy did not improve from 0.82759\n",
            "Epoch 36/150\n",
            "8/8 [==============================] - 0s 9ms/step - loss: 0.1161 - accuracy: 0.9673 - val_loss: 2.1932 - val_accuracy: 0.6293\n",
            "\n",
            "Epoch 00036: val_accuracy did not improve from 0.82759\n",
            "Epoch 37/150\n",
            "8/8 [==============================] - 0s 9ms/step - loss: 0.1530 - accuracy: 0.9320 - val_loss: 2.4902 - val_accuracy: 0.6724\n",
            "\n",
            "Epoch 00037: val_accuracy did not improve from 0.82759\n",
            "Epoch 38/150\n",
            "8/8 [==============================] - 0s 9ms/step - loss: 0.2432 - accuracy: 0.9163 - val_loss: 1.7326 - val_accuracy: 0.7155\n",
            "\n",
            "Epoch 00038: val_accuracy did not improve from 0.82759\n",
            "Epoch 39/150\n",
            "8/8 [==============================] - 0s 9ms/step - loss: 0.1062 - accuracy: 0.9471 - val_loss: 1.6295 - val_accuracy: 0.6466\n",
            "\n",
            "Epoch 00039: val_accuracy did not improve from 0.82759\n",
            "Epoch 40/150\n",
            "8/8 [==============================] - 0s 9ms/step - loss: 0.0734 - accuracy: 0.9845 - val_loss: 1.7959 - val_accuracy: 0.6983\n",
            "\n",
            "Epoch 00040: val_accuracy did not improve from 0.82759\n",
            "Epoch 41/150\n",
            "8/8 [==============================] - 0s 9ms/step - loss: 0.0570 - accuracy: 0.9832 - val_loss: 1.8434 - val_accuracy: 0.6983\n",
            "\n",
            "Epoch 00041: val_accuracy did not improve from 0.82759\n",
            "Epoch 42/150\n",
            "8/8 [==============================] - 0s 10ms/step - loss: 0.0394 - accuracy: 0.9936 - val_loss: 2.1544 - val_accuracy: 0.6810\n",
            "\n",
            "Epoch 00042: val_accuracy did not improve from 0.82759\n",
            "Epoch 43/150\n",
            "8/8 [==============================] - 0s 9ms/step - loss: 0.0289 - accuracy: 0.9943 - val_loss: 2.1052 - val_accuracy: 0.6466\n",
            "\n",
            "Epoch 00043: val_accuracy did not improve from 0.82759\n",
            "Epoch 44/150\n",
            "8/8 [==============================] - 0s 9ms/step - loss: 0.0229 - accuracy: 0.9990 - val_loss: 2.4715 - val_accuracy: 0.6552\n",
            "\n",
            "Epoch 00044: val_accuracy did not improve from 0.82759\n",
            "Epoch 45/150\n",
            "8/8 [==============================] - 0s 10ms/step - loss: 0.0193 - accuracy: 0.9986 - val_loss: 2.3885 - val_accuracy: 0.6552\n",
            "\n",
            "Epoch 00045: val_accuracy did not improve from 0.82759\n",
            "Epoch 46/150\n",
            "8/8 [==============================] - 0s 9ms/step - loss: 0.0201 - accuracy: 0.9968 - val_loss: 2.5743 - val_accuracy: 0.6897\n",
            "\n",
            "Epoch 00046: val_accuracy did not improve from 0.82759\n",
            "Epoch 47/150\n",
            "8/8 [==============================] - 0s 9ms/step - loss: 0.0171 - accuracy: 0.9993 - val_loss: 2.5742 - val_accuracy: 0.6466\n",
            "\n",
            "Epoch 00047: val_accuracy did not improve from 0.82759\n",
            "Epoch 48/150\n",
            "8/8 [==============================] - 0s 9ms/step - loss: 0.0189 - accuracy: 0.9942 - val_loss: 2.6865 - val_accuracy: 0.6638\n",
            "\n",
            "Epoch 00048: val_accuracy did not improve from 0.82759\n",
            "Epoch 49/150\n",
            "8/8 [==============================] - 0s 9ms/step - loss: 0.0073 - accuracy: 1.0000 - val_loss: 2.7143 - val_accuracy: 0.6724\n",
            "\n",
            "Epoch 00049: val_accuracy did not improve from 0.82759\n",
            "Epoch 50/150\n",
            "8/8 [==============================] - 0s 10ms/step - loss: 0.0072 - accuracy: 1.0000 - val_loss: 2.6611 - val_accuracy: 0.6466\n",
            "\n",
            "Epoch 00050: val_accuracy did not improve from 0.82759\n",
            "Epoch 51/150\n",
            "8/8 [==============================] - 0s 9ms/step - loss: 0.0079 - accuracy: 1.0000 - val_loss: 2.8717 - val_accuracy: 0.6638\n",
            "\n",
            "Epoch 00051: val_accuracy did not improve from 0.82759\n",
            "Epoch 52/150\n",
            "8/8 [==============================] - 0s 10ms/step - loss: 0.0046 - accuracy: 1.0000 - val_loss: 2.8725 - val_accuracy: 0.6552\n",
            "\n",
            "Epoch 00052: val_accuracy did not improve from 0.82759\n",
            "Epoch 53/150\n",
            "8/8 [==============================] - 0s 9ms/step - loss: 0.0036 - accuracy: 1.0000 - val_loss: 2.8979 - val_accuracy: 0.6552\n",
            "\n",
            "Epoch 00053: val_accuracy did not improve from 0.82759\n",
            "Epoch 54/150\n",
            "8/8 [==============================] - 0s 9ms/step - loss: 0.0035 - accuracy: 1.0000 - val_loss: 2.9637 - val_accuracy: 0.6552\n",
            "\n",
            "Epoch 00054: val_accuracy did not improve from 0.82759\n",
            "Epoch 55/150\n",
            "8/8 [==============================] - 0s 10ms/step - loss: 0.0032 - accuracy: 1.0000 - val_loss: 3.0263 - val_accuracy: 0.6466\n",
            "\n",
            "Epoch 00055: val_accuracy did not improve from 0.82759\n",
            "Epoch 56/150\n",
            "8/8 [==============================] - 0s 9ms/step - loss: 0.0021 - accuracy: 1.0000 - val_loss: 3.0680 - val_accuracy: 0.6466\n",
            "\n",
            "Epoch 00056: val_accuracy did not improve from 0.82759\n",
            "Epoch 57/150\n",
            "8/8 [==============================] - 0s 9ms/step - loss: 0.0021 - accuracy: 1.0000 - val_loss: 3.1120 - val_accuracy: 0.6466\n",
            "\n",
            "Epoch 00057: val_accuracy did not improve from 0.82759\n",
            "Epoch 58/150\n",
            "8/8 [==============================] - 0s 9ms/step - loss: 0.0024 - accuracy: 1.0000 - val_loss: 3.1684 - val_accuracy: 0.6638\n",
            "\n",
            "Epoch 00058: val_accuracy did not improve from 0.82759\n",
            "Epoch 59/150\n",
            "8/8 [==============================] - 0s 9ms/step - loss: 0.0037 - accuracy: 0.9976 - val_loss: 3.1673 - val_accuracy: 0.6466\n",
            "\n",
            "Epoch 00059: val_accuracy did not improve from 0.82759\n",
            "Epoch 60/150\n",
            "8/8 [==============================] - 0s 9ms/step - loss: 0.0020 - accuracy: 1.0000 - val_loss: 3.2123 - val_accuracy: 0.6379\n",
            "\n",
            "Epoch 00060: val_accuracy did not improve from 0.82759\n",
            "Epoch 61/150\n",
            "8/8 [==============================] - 0s 10ms/step - loss: 0.0018 - accuracy: 1.0000 - val_loss: 3.2575 - val_accuracy: 0.6379\n",
            "\n",
            "Epoch 00061: val_accuracy did not improve from 0.82759\n",
            "Epoch 62/150\n",
            "8/8 [==============================] - 0s 9ms/step - loss: 0.0014 - accuracy: 1.0000 - val_loss: 3.2767 - val_accuracy: 0.6379\n",
            "\n",
            "Epoch 00062: val_accuracy did not improve from 0.82759\n",
            "Epoch 63/150\n",
            "8/8 [==============================] - 0s 11ms/step - loss: 0.0014 - accuracy: 1.0000 - val_loss: 3.2881 - val_accuracy: 0.6466\n",
            "\n",
            "Epoch 00063: val_accuracy did not improve from 0.82759\n",
            "Epoch 64/150\n",
            "8/8 [==============================] - 0s 10ms/step - loss: 0.0014 - accuracy: 1.0000 - val_loss: 3.3220 - val_accuracy: 0.6466\n",
            "\n",
            "Epoch 00064: val_accuracy did not improve from 0.82759\n",
            "Epoch 65/150\n",
            "8/8 [==============================] - 0s 10ms/step - loss: 0.0012 - accuracy: 1.0000 - val_loss: 3.3554 - val_accuracy: 0.6466\n",
            "\n",
            "Epoch 00065: val_accuracy did not improve from 0.82759\n",
            "Epoch 66/150\n",
            "8/8 [==============================] - 0s 9ms/step - loss: 0.0013 - accuracy: 1.0000 - val_loss: 3.3901 - val_accuracy: 0.6466\n",
            "\n",
            "Epoch 00066: val_accuracy did not improve from 0.82759\n",
            "Epoch 67/150\n",
            "8/8 [==============================] - 0s 10ms/step - loss: 0.0011 - accuracy: 1.0000 - val_loss: 3.4180 - val_accuracy: 0.6379\n",
            "\n",
            "Epoch 00067: val_accuracy did not improve from 0.82759\n",
            "Epoch 68/150\n",
            "8/8 [==============================] - 0s 10ms/step - loss: 9.6446e-04 - accuracy: 1.0000 - val_loss: 3.4383 - val_accuracy: 0.6466\n",
            "\n",
            "Epoch 00068: val_accuracy did not improve from 0.82759\n",
            "Epoch 69/150\n",
            "8/8 [==============================] - 0s 9ms/step - loss: 7.4620e-04 - accuracy: 1.0000 - val_loss: 3.4495 - val_accuracy: 0.6466\n",
            "\n",
            "Epoch 00069: val_accuracy did not improve from 0.82759\n",
            "Epoch 70/150\n",
            "8/8 [==============================] - 0s 10ms/step - loss: 8.8317e-04 - accuracy: 1.0000 - val_loss: 3.4737 - val_accuracy: 0.6466\n",
            "\n",
            "Epoch 00070: val_accuracy did not improve from 0.82759\n",
            "Epoch 71/150\n",
            "8/8 [==============================] - 0s 10ms/step - loss: 7.1554e-04 - accuracy: 1.0000 - val_loss: 3.4970 - val_accuracy: 0.6466\n",
            "\n",
            "Epoch 00071: val_accuracy did not improve from 0.82759\n",
            "Epoch 72/150\n",
            "8/8 [==============================] - 0s 9ms/step - loss: 8.3638e-04 - accuracy: 1.0000 - val_loss: 3.5197 - val_accuracy: 0.6466\n",
            "\n",
            "Epoch 00072: val_accuracy did not improve from 0.82759\n",
            "Epoch 73/150\n",
            "8/8 [==============================] - 0s 10ms/step - loss: 7.2459e-04 - accuracy: 1.0000 - val_loss: 3.5419 - val_accuracy: 0.6466\n",
            "\n",
            "Epoch 00073: val_accuracy did not improve from 0.82759\n",
            "Epoch 74/150\n",
            "8/8 [==============================] - 0s 9ms/step - loss: 6.5461e-04 - accuracy: 1.0000 - val_loss: 3.5636 - val_accuracy: 0.6466\n",
            "\n",
            "Epoch 00074: val_accuracy did not improve from 0.82759\n",
            "Epoch 75/150\n",
            "8/8 [==============================] - 0s 10ms/step - loss: 7.2394e-04 - accuracy: 1.0000 - val_loss: 3.5866 - val_accuracy: 0.6379\n",
            "\n",
            "Epoch 00075: val_accuracy did not improve from 0.82759\n",
            "Epoch 76/150\n",
            "8/8 [==============================] - 0s 10ms/step - loss: 7.8471e-04 - accuracy: 1.0000 - val_loss: 3.6064 - val_accuracy: 0.6466\n",
            "\n",
            "Epoch 00076: val_accuracy did not improve from 0.82759\n",
            "Epoch 77/150\n",
            "8/8 [==============================] - 0s 9ms/step - loss: 6.4450e-04 - accuracy: 1.0000 - val_loss: 3.6168 - val_accuracy: 0.6466\n",
            "\n",
            "Epoch 00077: val_accuracy did not improve from 0.82759\n",
            "Epoch 78/150\n",
            "8/8 [==============================] - 0s 9ms/step - loss: 6.0856e-04 - accuracy: 1.0000 - val_loss: 3.6366 - val_accuracy: 0.6466\n",
            "\n",
            "Epoch 00078: val_accuracy did not improve from 0.82759\n",
            "Epoch 79/150\n",
            "8/8 [==============================] - 0s 9ms/step - loss: 6.2769e-04 - accuracy: 1.0000 - val_loss: 3.6489 - val_accuracy: 0.6466\n",
            "\n",
            "Epoch 00079: val_accuracy did not improve from 0.82759\n",
            "Epoch 80/150\n",
            "8/8 [==============================] - 0s 9ms/step - loss: 5.3407e-04 - accuracy: 1.0000 - val_loss: 3.6654 - val_accuracy: 0.6379\n",
            "\n",
            "Epoch 00080: val_accuracy did not improve from 0.82759\n",
            "Epoch 81/150\n",
            "8/8 [==============================] - 0s 11ms/step - loss: 5.5427e-04 - accuracy: 1.0000 - val_loss: 3.6920 - val_accuracy: 0.6552\n",
            "\n",
            "Epoch 00081: val_accuracy did not improve from 0.82759\n",
            "Epoch 82/150\n",
            "8/8 [==============================] - 0s 10ms/step - loss: 4.6898e-04 - accuracy: 1.0000 - val_loss: 3.7046 - val_accuracy: 0.6466\n",
            "\n",
            "Epoch 00082: val_accuracy did not improve from 0.82759\n",
            "Epoch 83/150\n",
            "8/8 [==============================] - 0s 9ms/step - loss: 4.4140e-04 - accuracy: 1.0000 - val_loss: 3.7203 - val_accuracy: 0.6466\n",
            "\n",
            "Epoch 00083: val_accuracy did not improve from 0.82759\n",
            "Epoch 84/150\n",
            "8/8 [==============================] - 0s 11ms/step - loss: 4.4382e-04 - accuracy: 1.0000 - val_loss: 3.7310 - val_accuracy: 0.6466\n",
            "\n",
            "Epoch 00084: val_accuracy did not improve from 0.82759\n",
            "Epoch 85/150\n",
            "8/8 [==============================] - 0s 9ms/step - loss: 4.5166e-04 - accuracy: 1.0000 - val_loss: 3.7380 - val_accuracy: 0.6466\n",
            "\n",
            "Epoch 00085: val_accuracy did not improve from 0.82759\n",
            "Epoch 86/150\n",
            "8/8 [==============================] - 0s 10ms/step - loss: 4.7395e-04 - accuracy: 1.0000 - val_loss: 3.7609 - val_accuracy: 0.6466\n",
            "\n",
            "Epoch 00086: val_accuracy did not improve from 0.82759\n",
            "Epoch 87/150\n",
            "8/8 [==============================] - 0s 9ms/step - loss: 3.6453e-04 - accuracy: 1.0000 - val_loss: 3.7783 - val_accuracy: 0.6466\n",
            "\n",
            "Epoch 00087: val_accuracy did not improve from 0.82759\n",
            "Epoch 88/150\n",
            "8/8 [==============================] - 0s 10ms/step - loss: 4.0891e-04 - accuracy: 1.0000 - val_loss: 3.7977 - val_accuracy: 0.6466\n",
            "\n",
            "Epoch 00088: val_accuracy did not improve from 0.82759\n",
            "Epoch 89/150\n",
            "8/8 [==============================] - 0s 10ms/step - loss: 4.3217e-04 - accuracy: 1.0000 - val_loss: 3.8154 - val_accuracy: 0.6466\n",
            "\n",
            "Epoch 00089: val_accuracy did not improve from 0.82759\n",
            "Epoch 90/150\n",
            "8/8 [==============================] - 0s 9ms/step - loss: 3.7674e-04 - accuracy: 1.0000 - val_loss: 3.8308 - val_accuracy: 0.6466\n",
            "\n",
            "Epoch 00090: val_accuracy did not improve from 0.82759\n",
            "Epoch 91/150\n",
            "8/8 [==============================] - 0s 9ms/step - loss: 3.6105e-04 - accuracy: 1.0000 - val_loss: 3.8441 - val_accuracy: 0.6466\n",
            "\n",
            "Epoch 00091: val_accuracy did not improve from 0.82759\n",
            "Epoch 92/150\n",
            "8/8 [==============================] - 0s 9ms/step - loss: 3.7945e-04 - accuracy: 1.0000 - val_loss: 3.8535 - val_accuracy: 0.6466\n",
            "\n",
            "Epoch 00092: val_accuracy did not improve from 0.82759\n",
            "Epoch 93/150\n",
            "8/8 [==============================] - 0s 11ms/step - loss: 3.5692e-04 - accuracy: 1.0000 - val_loss: 3.8647 - val_accuracy: 0.6466\n",
            "\n",
            "Epoch 00093: val_accuracy did not improve from 0.82759\n",
            "Epoch 94/150\n",
            "8/8 [==============================] - 0s 10ms/step - loss: 3.2334e-04 - accuracy: 1.0000 - val_loss: 3.8772 - val_accuracy: 0.6466\n",
            "\n",
            "Epoch 00094: val_accuracy did not improve from 0.82759\n",
            "Epoch 95/150\n",
            "8/8 [==============================] - 0s 10ms/step - loss: 3.3210e-04 - accuracy: 1.0000 - val_loss: 3.8950 - val_accuracy: 0.6379\n",
            "\n",
            "Epoch 00095: val_accuracy did not improve from 0.82759\n",
            "Epoch 96/150\n",
            "8/8 [==============================] - 0s 10ms/step - loss: 2.8694e-04 - accuracy: 1.0000 - val_loss: 3.9038 - val_accuracy: 0.6379\n",
            "\n",
            "Epoch 00096: val_accuracy did not improve from 0.82759\n",
            "Epoch 97/150\n",
            "8/8 [==============================] - 0s 9ms/step - loss: 3.1096e-04 - accuracy: 1.0000 - val_loss: 3.9131 - val_accuracy: 0.6466\n",
            "\n",
            "Epoch 00097: val_accuracy did not improve from 0.82759\n",
            "Epoch 98/150\n",
            "8/8 [==============================] - 0s 9ms/step - loss: 3.0676e-04 - accuracy: 1.0000 - val_loss: 3.9264 - val_accuracy: 0.6466\n",
            "\n",
            "Epoch 00098: val_accuracy did not improve from 0.82759\n",
            "Epoch 99/150\n",
            "8/8 [==============================] - 0s 10ms/step - loss: 3.0223e-04 - accuracy: 1.0000 - val_loss: 3.9407 - val_accuracy: 0.6466\n",
            "\n",
            "Epoch 00099: val_accuracy did not improve from 0.82759\n",
            "Epoch 100/150\n",
            "8/8 [==============================] - 0s 10ms/step - loss: 2.6289e-04 - accuracy: 1.0000 - val_loss: 3.9546 - val_accuracy: 0.6466\n",
            "\n",
            "Epoch 00100: val_accuracy did not improve from 0.82759\n",
            "Epoch 101/150\n",
            "8/8 [==============================] - 0s 9ms/step - loss: 3.2162e-04 - accuracy: 1.0000 - val_loss: 3.9697 - val_accuracy: 0.6466\n",
            "\n",
            "Epoch 00101: val_accuracy did not improve from 0.82759\n",
            "Epoch 102/150\n",
            "8/8 [==============================] - 0s 9ms/step - loss: 2.6028e-04 - accuracy: 1.0000 - val_loss: 3.9813 - val_accuracy: 0.6466\n",
            "\n",
            "Epoch 00102: val_accuracy did not improve from 0.82759\n",
            "Epoch 103/150\n",
            "8/8 [==============================] - 0s 9ms/step - loss: 2.8411e-04 - accuracy: 1.0000 - val_loss: 3.9919 - val_accuracy: 0.6552\n",
            "\n",
            "Epoch 00103: val_accuracy did not improve from 0.82759\n",
            "Epoch 104/150\n",
            "8/8 [==============================] - 0s 10ms/step - loss: 2.3151e-04 - accuracy: 1.0000 - val_loss: 4.0017 - val_accuracy: 0.6552\n",
            "\n",
            "Epoch 00104: val_accuracy did not improve from 0.82759\n",
            "Epoch 105/150\n",
            "8/8 [==============================] - 0s 11ms/step - loss: 2.7584e-04 - accuracy: 1.0000 - val_loss: 4.0177 - val_accuracy: 0.6466\n",
            "\n",
            "Epoch 00105: val_accuracy did not improve from 0.82759\n",
            "Epoch 106/150\n",
            "8/8 [==============================] - 0s 12ms/step - loss: 2.3690e-04 - accuracy: 1.0000 - val_loss: 4.0284 - val_accuracy: 0.6466\n",
            "\n",
            "Epoch 00106: val_accuracy did not improve from 0.82759\n",
            "Epoch 107/150\n",
            "8/8 [==============================] - 0s 10ms/step - loss: 2.4095e-04 - accuracy: 1.0000 - val_loss: 4.0364 - val_accuracy: 0.6552\n",
            "\n",
            "Epoch 00107: val_accuracy did not improve from 0.82759\n",
            "Epoch 108/150\n",
            "8/8 [==============================] - 0s 9ms/step - loss: 2.2794e-04 - accuracy: 1.0000 - val_loss: 4.0463 - val_accuracy: 0.6552\n",
            "\n",
            "Epoch 00108: val_accuracy did not improve from 0.82759\n",
            "Epoch 109/150\n",
            "8/8 [==============================] - 0s 9ms/step - loss: 2.3808e-04 - accuracy: 1.0000 - val_loss: 4.0586 - val_accuracy: 0.6552\n",
            "\n",
            "Epoch 00109: val_accuracy did not improve from 0.82759\n",
            "Epoch 110/150\n",
            "8/8 [==============================] - 0s 10ms/step - loss: 2.2374e-04 - accuracy: 1.0000 - val_loss: 4.0746 - val_accuracy: 0.6379\n",
            "\n",
            "Epoch 00110: val_accuracy did not improve from 0.82759\n",
            "Epoch 111/150\n",
            "8/8 [==============================] - 0s 10ms/step - loss: 2.1301e-04 - accuracy: 1.0000 - val_loss: 4.0867 - val_accuracy: 0.6379\n",
            "\n",
            "Epoch 00111: val_accuracy did not improve from 0.82759\n",
            "Epoch 112/150\n",
            "8/8 [==============================] - 0s 9ms/step - loss: 2.2952e-04 - accuracy: 1.0000 - val_loss: 4.0943 - val_accuracy: 0.6379\n",
            "\n",
            "Epoch 00112: val_accuracy did not improve from 0.82759\n",
            "Epoch 113/150\n",
            "8/8 [==============================] - 0s 9ms/step - loss: 2.3879e-04 - accuracy: 1.0000 - val_loss: 4.1032 - val_accuracy: 0.6379\n",
            "\n",
            "Epoch 00113: val_accuracy did not improve from 0.82759\n",
            "Epoch 114/150\n",
            "8/8 [==============================] - 0s 9ms/step - loss: 1.8834e-04 - accuracy: 1.0000 - val_loss: 4.1120 - val_accuracy: 0.6466\n",
            "\n",
            "Epoch 00114: val_accuracy did not improve from 0.82759\n",
            "Epoch 115/150\n",
            "8/8 [==============================] - 0s 9ms/step - loss: 1.7931e-04 - accuracy: 1.0000 - val_loss: 4.1220 - val_accuracy: 0.6466\n",
            "\n",
            "Epoch 00115: val_accuracy did not improve from 0.82759\n",
            "Epoch 116/150\n",
            "8/8 [==============================] - 0s 9ms/step - loss: 1.7995e-04 - accuracy: 1.0000 - val_loss: 4.1300 - val_accuracy: 0.6466\n",
            "\n",
            "Epoch 00116: val_accuracy did not improve from 0.82759\n",
            "Epoch 117/150\n",
            "8/8 [==============================] - 0s 10ms/step - loss: 1.9624e-04 - accuracy: 1.0000 - val_loss: 4.1419 - val_accuracy: 0.6466\n",
            "\n",
            "Epoch 00117: val_accuracy did not improve from 0.82759\n",
            "Epoch 118/150\n",
            "8/8 [==============================] - 0s 9ms/step - loss: 1.6133e-04 - accuracy: 1.0000 - val_loss: 4.1551 - val_accuracy: 0.6466\n",
            "\n",
            "Epoch 00118: val_accuracy did not improve from 0.82759\n",
            "Epoch 119/150\n",
            "8/8 [==============================] - 0s 10ms/step - loss: 1.4608e-04 - accuracy: 1.0000 - val_loss: 4.1673 - val_accuracy: 0.6466\n",
            "\n",
            "Epoch 00119: val_accuracy did not improve from 0.82759\n",
            "Epoch 120/150\n",
            "8/8 [==============================] - 0s 9ms/step - loss: 1.5525e-04 - accuracy: 1.0000 - val_loss: 4.1782 - val_accuracy: 0.6552\n",
            "\n",
            "Epoch 00120: val_accuracy did not improve from 0.82759\n",
            "Epoch 121/150\n",
            "8/8 [==============================] - 0s 10ms/step - loss: 1.4911e-04 - accuracy: 1.0000 - val_loss: 4.1864 - val_accuracy: 0.6552\n",
            "\n",
            "Epoch 00121: val_accuracy did not improve from 0.82759\n",
            "Epoch 122/150\n",
            "8/8 [==============================] - 0s 10ms/step - loss: 1.4029e-04 - accuracy: 1.0000 - val_loss: 4.1964 - val_accuracy: 0.6638\n",
            "\n",
            "Epoch 00122: val_accuracy did not improve from 0.82759\n",
            "Epoch 123/150\n",
            "8/8 [==============================] - 0s 9ms/step - loss: 1.5633e-04 - accuracy: 1.0000 - val_loss: 4.2053 - val_accuracy: 0.6552\n",
            "\n",
            "Epoch 00123: val_accuracy did not improve from 0.82759\n",
            "Epoch 124/150\n",
            "8/8 [==============================] - 0s 9ms/step - loss: 1.4268e-04 - accuracy: 1.0000 - val_loss: 4.2143 - val_accuracy: 0.6552\n",
            "\n",
            "Epoch 00124: val_accuracy did not improve from 0.82759\n",
            "Epoch 125/150\n",
            "8/8 [==============================] - 0s 9ms/step - loss: 1.4126e-04 - accuracy: 1.0000 - val_loss: 4.2240 - val_accuracy: 0.6552\n",
            "\n",
            "Epoch 00125: val_accuracy did not improve from 0.82759\n",
            "Epoch 126/150\n",
            "8/8 [==============================] - 0s 9ms/step - loss: 1.4282e-04 - accuracy: 1.0000 - val_loss: 4.2363 - val_accuracy: 0.6552\n",
            "\n",
            "Epoch 00126: val_accuracy did not improve from 0.82759\n",
            "Epoch 127/150\n",
            "8/8 [==============================] - 0s 9ms/step - loss: 1.3725e-04 - accuracy: 1.0000 - val_loss: 4.2463 - val_accuracy: 0.6552\n",
            "\n",
            "Epoch 00127: val_accuracy did not improve from 0.82759\n",
            "Epoch 128/150\n",
            "8/8 [==============================] - 0s 10ms/step - loss: 1.4240e-04 - accuracy: 1.0000 - val_loss: 4.2557 - val_accuracy: 0.6466\n",
            "\n",
            "Epoch 00128: val_accuracy did not improve from 0.82759\n",
            "Epoch 129/150\n",
            "8/8 [==============================] - 0s 9ms/step - loss: 1.3353e-04 - accuracy: 1.0000 - val_loss: 4.2664 - val_accuracy: 0.6379\n",
            "\n",
            "Epoch 00129: val_accuracy did not improve from 0.82759\n",
            "Epoch 130/150\n",
            "8/8 [==============================] - 0s 9ms/step - loss: 1.2591e-04 - accuracy: 1.0000 - val_loss: 4.2747 - val_accuracy: 0.6552\n",
            "\n",
            "Epoch 00130: val_accuracy did not improve from 0.82759\n",
            "Epoch 131/150\n",
            "8/8 [==============================] - 0s 9ms/step - loss: 1.1702e-04 - accuracy: 1.0000 - val_loss: 4.2826 - val_accuracy: 0.6552\n",
            "\n",
            "Epoch 00131: val_accuracy did not improve from 0.82759\n",
            "Epoch 132/150\n",
            "8/8 [==============================] - 0s 10ms/step - loss: 1.1722e-04 - accuracy: 1.0000 - val_loss: 4.2902 - val_accuracy: 0.6552\n",
            "\n",
            "Epoch 00132: val_accuracy did not improve from 0.82759\n",
            "Epoch 133/150\n",
            "8/8 [==============================] - 0s 11ms/step - loss: 1.1884e-04 - accuracy: 1.0000 - val_loss: 4.2981 - val_accuracy: 0.6552\n",
            "\n",
            "Epoch 00133: val_accuracy did not improve from 0.82759\n",
            "Epoch 134/150\n",
            "8/8 [==============================] - 0s 10ms/step - loss: 1.1543e-04 - accuracy: 1.0000 - val_loss: 4.3086 - val_accuracy: 0.6552\n",
            "\n",
            "Epoch 00134: val_accuracy did not improve from 0.82759\n",
            "Epoch 135/150\n",
            "8/8 [==============================] - 0s 10ms/step - loss: 1.0366e-04 - accuracy: 1.0000 - val_loss: 4.3166 - val_accuracy: 0.6552\n",
            "\n",
            "Epoch 00135: val_accuracy did not improve from 0.82759\n",
            "Epoch 136/150\n",
            "8/8 [==============================] - 0s 10ms/step - loss: 1.2374e-04 - accuracy: 1.0000 - val_loss: 4.3245 - val_accuracy: 0.6552\n",
            "\n",
            "Epoch 00136: val_accuracy did not improve from 0.82759\n",
            "Epoch 137/150\n",
            "8/8 [==============================] - 0s 9ms/step - loss: 1.0646e-04 - accuracy: 1.0000 - val_loss: 4.3340 - val_accuracy: 0.6552\n",
            "\n",
            "Epoch 00137: val_accuracy did not improve from 0.82759\n",
            "Epoch 138/150\n",
            "8/8 [==============================] - 0s 10ms/step - loss: 1.2376e-04 - accuracy: 1.0000 - val_loss: 4.3444 - val_accuracy: 0.6552\n",
            "\n",
            "Epoch 00138: val_accuracy did not improve from 0.82759\n",
            "Epoch 139/150\n",
            "8/8 [==============================] - 0s 9ms/step - loss: 1.0050e-04 - accuracy: 1.0000 - val_loss: 4.3540 - val_accuracy: 0.6552\n",
            "\n",
            "Epoch 00139: val_accuracy did not improve from 0.82759\n",
            "Epoch 140/150\n",
            "8/8 [==============================] - 0s 9ms/step - loss: 9.7218e-05 - accuracy: 1.0000 - val_loss: 4.3639 - val_accuracy: 0.6552\n",
            "\n",
            "Epoch 00140: val_accuracy did not improve from 0.82759\n",
            "Epoch 141/150\n",
            "8/8 [==============================] - 0s 9ms/step - loss: 1.1055e-04 - accuracy: 1.0000 - val_loss: 4.3754 - val_accuracy: 0.6552\n",
            "\n",
            "Epoch 00141: val_accuracy did not improve from 0.82759\n",
            "Epoch 142/150\n",
            "8/8 [==============================] - 0s 10ms/step - loss: 9.9565e-05 - accuracy: 1.0000 - val_loss: 4.3830 - val_accuracy: 0.6552\n",
            "\n",
            "Epoch 00142: val_accuracy did not improve from 0.82759\n",
            "Epoch 143/150\n",
            "8/8 [==============================] - 0s 9ms/step - loss: 1.0009e-04 - accuracy: 1.0000 - val_loss: 4.3911 - val_accuracy: 0.6552\n",
            "\n",
            "Epoch 00143: val_accuracy did not improve from 0.82759\n",
            "Epoch 144/150\n",
            "8/8 [==============================] - 0s 11ms/step - loss: 1.0093e-04 - accuracy: 1.0000 - val_loss: 4.3986 - val_accuracy: 0.6552\n",
            "\n",
            "Epoch 00144: val_accuracy did not improve from 0.82759\n",
            "Epoch 145/150\n",
            "8/8 [==============================] - 0s 9ms/step - loss: 8.9131e-05 - accuracy: 1.0000 - val_loss: 4.4072 - val_accuracy: 0.6552\n",
            "\n",
            "Epoch 00145: val_accuracy did not improve from 0.82759\n",
            "Epoch 146/150\n",
            "8/8 [==============================] - 0s 9ms/step - loss: 9.3485e-05 - accuracy: 1.0000 - val_loss: 4.4153 - val_accuracy: 0.6552\n",
            "\n",
            "Epoch 00146: val_accuracy did not improve from 0.82759\n",
            "Epoch 147/150\n",
            "8/8 [==============================] - 0s 10ms/step - loss: 9.3946e-05 - accuracy: 1.0000 - val_loss: 4.4237 - val_accuracy: 0.6552\n",
            "\n",
            "Epoch 00147: val_accuracy did not improve from 0.82759\n",
            "Epoch 148/150\n",
            "8/8 [==============================] - 0s 10ms/step - loss: 7.4425e-05 - accuracy: 1.0000 - val_loss: 4.4317 - val_accuracy: 0.6552\n",
            "\n",
            "Epoch 00148: val_accuracy did not improve from 0.82759\n",
            "Epoch 149/150\n",
            "8/8 [==============================] - 0s 9ms/step - loss: 9.2138e-05 - accuracy: 1.0000 - val_loss: 4.4384 - val_accuracy: 0.6638\n",
            "\n",
            "Epoch 00149: val_accuracy did not improve from 0.82759\n",
            "Epoch 150/150\n",
            "8/8 [==============================] - 0s 11ms/step - loss: 7.9174e-05 - accuracy: 1.0000 - val_loss: 4.4462 - val_accuracy: 0.6638\n",
            "\n",
            "Epoch 00150: val_accuracy did not improve from 0.82759\n"
          ],
          "name": "stdout"
        }
      ]
    },
    {
      "cell_type": "code",
      "metadata": {
        "id": "QVualffJJ118"
      },
      "source": [
        "# Load wights file of the best model :\n",
        "wights_file = './BestWeights.hdf5' # choose the best checkpoint\n",
        "NN_model.load_weights(wights_file) # load weights\n",
        "NN_model.compile(loss='binary_crossentropy', optimizer='adam', metrics=['accuracy'])"
      ],
      "execution_count": null,
      "outputs": []
    },
    {
      "cell_type": "code",
      "metadata": {
        "id": "jboGZBt_KBJT"
      },
      "source": [
        "predictions = NN_model.predict(x_test)"
      ],
      "execution_count": null,
      "outputs": []
    },
    {
      "cell_type": "code",
      "metadata": {
        "id": "dgh2gRclKDWC"
      },
      "source": [
        "# round predictions\n",
        "rounded = [round(x[0]) for x in predictions]\n",
        "predictions = rounded"
      ],
      "execution_count": null,
      "outputs": []
    },
    {
      "cell_type": "code",
      "metadata": {
        "colab": {
          "base_uri": "https://localhost:8080/"
        },
        "id": "DhQl1kplKFvS",
        "outputId": "8a8679c6-631a-4c0f-c9c4-74e5c774ae56"
      },
      "source": [
        "score = accuracy_score(y_test ,predictions)\n",
        "print('Test Accuracy:',score)"
      ],
      "execution_count": null,
      "outputs": [
        {
          "output_type": "stream",
          "text": [
            "Test Accuracy: 0.7708333333333334\n"
          ],
          "name": "stdout"
        }
      ]
    },
    {
      "cell_type": "markdown",
      "metadata": {
        "id": "MxGJtedgKKYP"
      },
      "source": [
        "## **Other Classifier**"
      ]
    },
    {
      "cell_type": "code",
      "metadata": {
        "id": "iBM2QLYlKNMi"
      },
      "source": [
        "from sklearn.pipeline import Pipeline\n",
        "from sklearn.metrics import accuracy_score\n",
        "\n",
        "# models\n",
        "from sklearn.linear_model import LogisticRegression\n",
        "from sklearn.svm import SVC\n",
        "from sklearn.ensemble import RandomForestClassifier, GradientBoostingClassifier, ExtraTreesClassifier\n",
        "from sklearn.ensemble import BaggingClassifier, AdaBoostClassifier\n",
        "from sklearn.naive_bayes import GaussianNB\n",
        "from sklearn.neighbors import KNeighborsClassifier\n",
        "from sklearn.neural_network import MLPClassifier\n",
        "from sklearn.tree import DecisionTreeClassifier\n",
        "from xgboost import XGBClassifier\n",
        "from lightgbm import LGBMClassifier"
      ],
      "execution_count": null,
      "outputs": []
    },
    {
      "cell_type": "code",
      "metadata": {
        "id": "WTEBco7EKbYx"
      },
      "source": [
        "names = [ 'Neural Network',\n",
        "          'Logistic Regression',\n",
        "          'SVC',\n",
        "          'Gradient Boosting Classifier',\n",
        "          'Extra Trees Classifier',\n",
        "          'Bagging Classifier',\n",
        "          'AdaBoost Classifier',\n",
        "          'Gaussian NB',\n",
        "          'MLP Classifier',\n",
        "          'XGB Classifier',\n",
        "          'LGBM Classisfier',\n",
        "          \"K Nearest Neighbour Classifier\",\n",
        "          \"Decison Tree Classifier\",\n",
        "          \"Random Forest Classifier\",\n",
        "         ]\n",
        "classifiers = [\n",
        "    NN_model,\n",
        "    LogisticRegression(),\n",
        "    SVC(),\n",
        "    GradientBoostingClassifier(),\n",
        "    ExtraTreesClassifier(),\n",
        "    BaggingClassifier(),\n",
        "    AdaBoostClassifier(),\n",
        "    GaussianNB(),\n",
        "    MLPClassifier(),\n",
        "    XGBClassifier(),\n",
        "    LGBMClassifier(),\n",
        "    KNeighborsClassifier(),\n",
        "    DecisionTreeClassifier(),\n",
        "    RandomForestClassifier(),\n",
        "        ]\n",
        "\n",
        "# Zipped all architecture\n",
        "zipped_clf = zip(names,classifiers)"
      ],
      "execution_count": null,
      "outputs": []
    },
    {
      "cell_type": "code",
      "metadata": {
        "id": "Z-SWlR1iKdwz"
      },
      "source": [
        "import warnings\n",
        "# untuk menghapus warning\n",
        "warnings.filterwarnings('ignore')\n",
        "\n",
        "# fungsi accuracy testing\n",
        "def acc_summary(model, train_X, train_y, val_X, val_y):\n",
        "    t0 = time()\n",
        "    model.fit(train_X, train_y)\n",
        "    pred_y = model.predict(val_X)\n",
        "    train_test_time = time() - t0\n",
        "    accuracy = accuracy_score(val_y, pred_y)*100\n",
        "    print(\"accuracy : {0:.2f}%\".format(accuracy))\n",
        "    print(\"train and test time: {0:.2f}s\".format(train_test_time))\n",
        "    print(\"-\"*80)\n",
        "    return accuracy, train_test_time\n",
        "\n",
        "# fungsi komparator\n",
        "def classifier_comparator(train_X,train_y,val_X,val_y,classifier=zipped_clf):\n",
        "    result = []\n",
        "    for n,c in classifier:\n",
        "      if n=='Neural Network': # for only neural network\n",
        "        predictions = NN_model.predict(x_test)\n",
        "        # round predictions\n",
        "        rounded = [round(x[0]) for x in predictions]\n",
        "        predictions = rounded\n",
        "        score = accuracy_score(val_y, predictions)*100\n",
        "        print(\"Test result for {}\".format(n))\n",
        "        print(\"train and test time: {0:.2f}s\".format(train_test_time))\n",
        "        print(\"accuracy : {0:.2f}%\".format(score))\n",
        "        print(\"-\"*80)\n",
        "        result.append((c,n,score,train_test_time))\n",
        "      else:\n",
        "        checker_pipeline = Pipeline([\n",
        "            ('classifier', c)\n",
        "        ])\n",
        "        print(\"Validation result for {}\".format(n))\n",
        "        #print(c)\n",
        "        clf_acc,tt_time = acc_summary(checker_pipeline,train_X, train_y, val_X, val_y)\n",
        "        result.append((c,n,clf_acc,tt_time))\n",
        "    return result"
      ],
      "execution_count": null,
      "outputs": []
    },
    {
      "cell_type": "code",
      "metadata": {
        "colab": {
          "base_uri": "https://localhost:8080/"
        },
        "id": "Qz7kn2n9K7QQ",
        "outputId": "94cb37c6-e88f-43e6-9c85-a3c811bb4c66"
      },
      "source": [
        "result = classifier_comparator(x_train, y_train, x_test, y_test)"
      ],
      "execution_count": null,
      "outputs": [
        {
          "output_type": "stream",
          "text": [
            "Validation result for Logistic Regression\n",
            "accuracy : 80.21%\n",
            "train and test time: 0.01s\n",
            "--------------------------------------------------------------------------------\n",
            "Validation result for SVC\n",
            "accuracy : 77.60%\n",
            "train and test time: 0.01s\n",
            "--------------------------------------------------------------------------------\n",
            "Validation result for Gradient Boosting Classifier\n",
            "accuracy : 81.25%\n",
            "train and test time: 0.16s\n",
            "--------------------------------------------------------------------------------\n",
            "Validation result for Extra Trees Classifier\n",
            "accuracy : 79.69%\n",
            "train and test time: 0.16s\n",
            "--------------------------------------------------------------------------------\n",
            "Validation result for Bagging Classifier\n",
            "accuracy : 76.56%\n",
            "train and test time: 0.03s\n",
            "--------------------------------------------------------------------------------\n",
            "Validation result for AdaBoost Classifier\n",
            "accuracy : 78.65%\n",
            "train and test time: 0.10s\n",
            "--------------------------------------------------------------------------------\n",
            "Validation result for Gaussian NB\n",
            "accuracy : 76.56%\n",
            "train and test time: 0.00s\n",
            "--------------------------------------------------------------------------------\n",
            "Validation result for MLP Classifier\n",
            "accuracy : 80.21%\n",
            "train and test time: 0.70s\n",
            "--------------------------------------------------------------------------------\n",
            "Validation result for XGB Classifier\n",
            "accuracy : 79.69%\n",
            "train and test time: 0.09s\n",
            "--------------------------------------------------------------------------------\n",
            "Validation result for LGBM Classisfier\n",
            "accuracy : 79.17%\n",
            "train and test time: 0.07s\n",
            "--------------------------------------------------------------------------------\n",
            "Validation result for K Nearest Neighbour Classifier\n",
            "accuracy : 80.73%\n",
            "train and test time: 0.01s\n",
            "--------------------------------------------------------------------------------\n",
            "Validation result for Decison Tree Classifier\n",
            "accuracy : 72.40%\n",
            "train and test time: 0.00s\n",
            "--------------------------------------------------------------------------------\n",
            "Validation result for Random Forest Classifier\n",
            "accuracy : 78.65%\n",
            "train and test time: 0.20s\n",
            "--------------------------------------------------------------------------------\n"
          ],
          "name": "stdout"
        }
      ]
    },
    {
      "cell_type": "markdown",
      "metadata": {
        "id": "WSHXyPeMLcnQ"
      },
      "source": [
        "## **Plotting**"
      ]
    },
    {
      "cell_type": "code",
      "metadata": {
        "id": "kEf-MVn7Ld9A"
      },
      "source": [
        "# Plotting models\n",
        "import matplotlib.pyplot as plt\n",
        "import seaborn as sns"
      ],
      "execution_count": null,
      "outputs": []
    },
    {
      "cell_type": "code",
      "metadata": {
        "id": "iOYIUp28Lfdx"
      },
      "source": [
        "# get name and score models\n",
        "n = [v[1] for v in result]\n",
        "s = [v[2] for v in result]"
      ],
      "execution_count": null,
      "outputs": []
    },
    {
      "cell_type": "code",
      "metadata": {
        "colab": {
          "base_uri": "https://localhost:8080/",
          "height": 400
        },
        "id": "1qLku8oKLg9w",
        "outputId": "302aaf81-cf14-4b49-c98e-ff3378696898"
      },
      "source": [
        "# Visualisasi model\n",
        "plt.figure()\n",
        "sns.barplot(x = n, y = s)\n",
        "\n",
        "plt.title(\"Plotting Test Result\")\n",
        "plt.xlabel('Model Name')\n",
        "\n",
        "plt.xticks(rotation=45, ha='right', size=10)\n",
        "plt.yticks(size=10)\n",
        "plt.ylabel('Accuracy Score')\n",
        "\n",
        "plt.show()"
      ],
      "execution_count": null,
      "outputs": [
        {
          "output_type": "display_data",
          "data": {
            "image/png": "[encoded data removed]",
            "text/plain": [
              "<Figure size 432x288 with 1 Axes>"
            ]
          },
          "metadata": {
            "tags": [],
            "needs_background": "light"
          }
        }
      ]
    },
    {
      "cell_type": "markdown",
      "metadata": {
        "id": "l9tbblNJLvKX"
      },
      "source": [
        "## **Feature Importance**"
      ]
    },
    {
      "cell_type": "code",
      "metadata": {
        "id": "7T3PAj9tLw_g"
      },
      "source": [
        "# get best models [-1] is random forest and next [0] is index to model to get feature importance, and zipped with X column\n",
        "importances = sorted([(a,b) for a,b in zip(result[-1][0].feature_importances_, x_df_transformed.columns)],reverse=True)\n",
        "n = [ni for si,ni in importances]\n",
        "s = [si for si,ni in importances]"
      ],
      "execution_count": null,
      "outputs": []
    },
    {
      "cell_type": "code",
      "metadata": {
        "colab": {
          "base_uri": "https://localhost:8080/",
          "height": 371
        },
        "id": "1cmcBnH-LzNW",
        "outputId": "26c18996-bf9d-4908-9555-14bf0ef748f1"
      },
      "source": [
        "# Plot the feature importances of the forest\n",
        "plt.figure()\n",
        "plt.title(\"Feature importances\")\n",
        "plt.bar(n,s)\n",
        "plt.xticks(rotation=45, ha='right', size=10)\n",
        "plt.yticks(size=10)\n",
        "plt.show()"
      ],
      "execution_count": null,
      "outputs": [
        {
          "output_type": "display_data",
          "data": {
            "image/png": "[encoded data removed]",
            "text/plain": [
              "<Figure size 432x288 with 1 Axes>"
            ]
          },
          "metadata": {
            "tags": [],
            "needs_background": "light"
          }
        }
      ]
    },
    {
      "cell_type": "markdown",
      "metadata": {
        "id": "xVsqeh6yMFgU"
      },
      "source": [
        "## **Ensemble Learning**"
      ]
    },
    {
      "cell_type": "code",
      "metadata": {
        "colab": {
          "base_uri": "https://localhost:8080/"
        },
        "id": "kkPw0yt5MHuP",
        "outputId": "f042efbc-9721-4b16-c903-bd813c14a4fb"
      },
      "source": [
        "# Install and Import Dependencies\n",
        "!pip install vecstack\n",
        "from vecstack import stacking"
      ],
      "execution_count": null,
      "outputs": [
        {
          "output_type": "stream",
          "text": [
            "Collecting vecstack\n",
            "  Downloading https://files.pythonhosted.org/packages/d0/a1/b9a1e9e9e5a12078da1ab9788c7885e4c745358f7e57d5f94d9db6a4e898/vecstack-0.4.0.tar.gz\n",
            "Requirement already satisfied: numpy in /usr/local/lib/python3.7/dist-packages (from vecstack) (1.19.5)\n",
            "Requirement already satisfied: scipy in /usr/local/lib/python3.7/dist-packages (from vecstack) (1.4.1)\n",
            "Requirement already satisfied: scikit-learn>=0.18 in /usr/local/lib/python3.7/dist-packages (from vecstack) (0.22.2.post1)\n",
            "Requirement already satisfied: joblib>=0.11 in /usr/local/lib/python3.7/dist-packages (from scikit-learn>=0.18->vecstack) (1.0.1)\n",
            "Building wheels for collected packages: vecstack\n",
            "  Building wheel for vecstack (setup.py) ... \u001b[?25l\u001b[?25hdone\n",
            "  Created wheel for vecstack: filename=vecstack-0.4.0-cp37-none-any.whl size=19877 sha256=4ad57545cffe0bf464e4258de259c29d17495b738fdb6124e6dd398d80ffb253\n",
            "  Stored in directory: /root/.cache/pip/wheels/5f/bb/4e/f6488433d53bc0684673d6845e5bf11a25240577c8151c140e\n",
            "Successfully built vecstack\n",
            "Installing collected packages: vecstack\n",
            "Successfully installed vecstack-0.4.0\n"
          ],
          "name": "stdout"
        }
      ]
    },
    {
      "cell_type": "code",
      "metadata": {
        "colab": {
          "base_uri": "https://localhost:8080/"
        },
        "id": "3rEKwYhDMKri",
        "outputId": "e8fbf9f5-6b50-47c2-9687-d10b2bd93ba8"
      },
      "source": [
        "# get all models, 1-st level.\n",
        "models = [v[0] for v in result] # tanpa neural network\n",
        "print('Number of model:',len(models))\n",
        "\n",
        "t0 = time()\n",
        "\n",
        "# Compute stacking features\n",
        "S_train, S_test = stacking(models, x_train, y_train, x_test, n_folds = 3, metric=accuracy_score,\n",
        "                           shuffle = True, random_state = 7, verbose = 1)\n",
        "\n",
        "# Initialize 2-nd level model\n",
        "model = models[-1]\n",
        "\n",
        "# Fit 2-nd level model\n",
        "model = model.fit(S_train, y_train)\n",
        "\n",
        "# Predict\n",
        "y_test_pred = model.predict(S_test)\n",
        "\n",
        "train_test_time = time() - t0"
      ],
      "execution_count": null,
      "outputs": [
        {
          "output_type": "stream",
          "text": [
            "Number of model: 13\n",
            "task:         [regression]\n",
            "metric:       [accuracy_score]\n",
            "mode:         [oof_pred_bag]\n",
            "n_models:     [13]\n",
            "\n",
            "model  0:     [LogisticRegression]\n",
            "    ----\n",
            "    MEAN:     [0.76909722] + [0.02009694]\n",
            "    FULL:     [0.76909722]\n",
            "\n",
            "model  1:     [SVC]\n",
            "    ----\n",
            "    MEAN:     [0.75347222] + [0.02009694]\n",
            "    FULL:     [0.75347222]\n",
            "\n",
            "model  2:     [GradientBoostingClassifier]\n",
            "    ----\n",
            "    MEAN:     [0.74652778] + [0.01299187]\n",
            "    FULL:     [0.74652778]\n",
            "\n",
            "model  3:     [ExtraTreesClassifier]\n",
            "    ----\n",
            "    MEAN:     [0.73437500] + [0.02586747]\n",
            "    FULL:     [0.73437500]\n",
            "\n",
            "model  4:     [BaggingClassifier]\n",
            "    ----\n",
            "    MEAN:     [0.73958333] + [0.01948780]\n",
            "    FULL:     [0.73958333]\n",
            "\n",
            "model  5:     [AdaBoostClassifier]\n",
            "    ----\n",
            "    MEAN:     [0.72743056] + [0.02734031]\n",
            "    FULL:     [0.72743056]\n",
            "\n",
            "model  6:     [GaussianNB]\n",
            "    ----\n",
            "    MEAN:     [0.75520833] + [0.02655739]\n",
            "    FULL:     [0.75520833]\n",
            "\n",
            "model  7:     [MLPClassifier]\n",
            "    ----\n",
            "    MEAN:     [0.74479167] + [0.03897560]\n",
            "    FULL:     [0.74479167]\n",
            "\n",
            "model  8:     [XGBClassifier]\n",
            "    ----\n",
            "    MEAN:     [0.74826389] + [0.01718662]\n",
            "    FULL:     [0.74826389]\n",
            "\n",
            "model  9:     [LGBMClassifier]\n",
            "    ----\n",
            "    MEAN:     [0.74479167] + [0.01533292]\n",
            "    FULL:     [0.74479167]\n",
            "\n",
            "model 10:     [KNeighborsClassifier]\n",
            "    ----\n",
            "    MEAN:     [0.70486111] + [0.02182258]\n",
            "    FULL:     [0.70486111]\n",
            "\n",
            "model 11:     [DecisionTreeClassifier]\n",
            "    ----\n",
            "    MEAN:     [0.68576389] + [0.03835195]\n",
            "    FULL:     [0.68576389]\n",
            "\n",
            "model 12:     [RandomForestClassifier]\n",
            "    ----\n",
            "    MEAN:     [0.75520833] + [0.01533292]\n",
            "    FULL:     [0.75520833]\n",
            "\n"
          ],
          "name": "stdout"
        }
      ]
    },
    {
      "cell_type": "code",
      "metadata": {
        "colab": {
          "base_uri": "https://localhost:8080/"
        },
        "id": "ai9B-vQzMUyr",
        "outputId": "50f38a09-7164-422a-b3b2-4ce3f0bd1964"
      },
      "source": [
        "## Print vecstack result\n",
        "accuracy = accuracy_score(y_test, y_test_pred)*100\n",
        "print(\"Stacking accuracy : {0:.2f}%\".format(accuracy))\n",
        "print(\"train and test time: {0:.2f}s\".format(train_test_time))"
      ],
      "execution_count": null,
      "outputs": [
        {
          "output_type": "stream",
          "text": [
            "Stacking accuracy : 79.69%\n",
            "train and test time: 3.76s\n"
          ],
          "name": "stdout"
        }
      ]
    }
  ]
}