{
  "nbformat": 4,
  "nbformat_minor": 0,
  "metadata": {
    "colab": {
      "name": "pengenalan pola_Studi Kasus Pima Indians Diabetes_tanpa_standarisasi.ipynb",
      "provenance": [],
      "collapsed_sections": [
        "YVfSksXrJYts",
        "mdNqepxBJdCS",
        "MxGJtedgKKYP",
        "WSHXyPeMLcnQ",
        "l9tbblNJLvKX",
        "xVsqeh6yMFgU"
      ],
      "toc_visible": true,
      "authorship_tag": "ABX9TyPQoFAttwda2G9z86HS9gX1",
      "include_colab_link": true
    },
    "kernelspec": {
      "name": "python3",
      "display_name": "Python 3"
    },
    "language_info": {
      "name": "python"
    }
  },
  "cells": [
    {
      "cell_type": "markdown",
      "metadata": {
        "id": "view-in-github",
        "colab_type": "text"
      },
      "source": [
        "<a href=\"https://colab.research.google.com/github/LinggarM/Pima-Indians-Diabetes-Classification-using-Various-Supervised-Algorithms/blob/main/pengenalan_pola_Studi_Kasus_Pima_Indians_Diabetes_tanpa_standarisasi.ipynb\" target=\"_parent\"><img src=\"https://colab.research.google.com/assets/colab-badge.svg\" alt=\"Open In Colab\"/></a>"
      ]
    },
    {
      "cell_type": "code",
      "metadata": {
        "colab": {
          "base_uri": "https://localhost:8080/"
        },
        "id": "Y9c0bd083zcr",
        "outputId": "e0a275bc-9d66-40ba-bf69-e5fde78e8bef"
      },
      "source": [
        "from google.colab import drive\n",
        "\n",
        "drive.mount('/content/gdrive/')"
      ],
      "execution_count": null,
      "outputs": [
        {
          "output_type": "stream",
          "text": [
            "Mounted at /content/gdrive/\n"
          ],
          "name": "stdout"
        }
      ]
    },
    {
      "cell_type": "code",
      "metadata": {
        "id": "SnAf0mZQ6Pj4"
      },
      "source": [
        "import pandas as pd\n",
        "\n",
        "df_diabetes = pd.read_csv('/content/gdrive/MyDrive/Upload/Akademik/Pengenalan Pola/diabetes.csv')"
      ],
      "execution_count": null,
      "outputs": []
    },
    {
      "cell_type": "code",
      "metadata": {
        "colab": {
          "base_uri": "https://localhost:8080/",
          "height": 204
        },
        "id": "bpSTDDL5AsTJ",
        "outputId": "a8898eaa-52fd-4ea7-e57c-7fa53765f664"
      },
      "source": [
        "df_diabetes.head()"
      ],
      "execution_count": null,
      "outputs": [
        {
          "output_type": "execute_result",
          "data": {
            "text/html": [
              "<div>\n",
              "<style scoped>\n",
              "    .dataframe tbody tr th:only-of-type {\n",
              "        vertical-align: middle;\n",
              "    }\n",
              "\n",
              "    .dataframe tbody tr th {\n",
              "        vertical-align: top;\n",
              "    }\n",
              "\n",
              "    .dataframe thead th {\n",
              "        text-align: right;\n",
              "    }\n",
              "</style>\n",
              "<table border=\"1\" class=\"dataframe\">\n",
              "  <thead>\n",
              "    <tr style=\"text-align: right;\">\n",
              "      <th></th>\n",
              "      <th>Pregnancies</th>\n",
              "      <th>Glucose</th>\n",
              "      <th>BloodPressure</th>\n",
              "      <th>SkinThickness</th>\n",
              "      <th>Insulin</th>\n",
              "      <th>BMI</th>\n",
              "      <th>DiabetesPedigreeFunction</th>\n",
              "      <th>Age</th>\n",
              "      <th>Outcome</th>\n",
              "    </tr>\n",
              "  </thead>\n",
              "  <tbody>\n",
              "    <tr>\n",
              "      <th>0</th>\n",
              "      <td>6</td>\n",
              "      <td>148</td>\n",
              "      <td>72</td>\n",
              "      <td>35</td>\n",
              "      <td>0</td>\n",
              "      <td>33.6</td>\n",
              "      <td>0.627</td>\n",
              "      <td>50</td>\n",
              "      <td>1</td>\n",
              "    </tr>\n",
              "    <tr>\n",
              "      <th>1</th>\n",
              "      <td>1</td>\n",
              "      <td>85</td>\n",
              "      <td>66</td>\n",
              "      <td>29</td>\n",
              "      <td>0</td>\n",
              "      <td>26.6</td>\n",
              "      <td>0.351</td>\n",
              "      <td>31</td>\n",
              "      <td>0</td>\n",
              "    </tr>\n",
              "    <tr>\n",
              "      <th>2</th>\n",
              "      <td>8</td>\n",
              "      <td>183</td>\n",
              "      <td>64</td>\n",
              "      <td>0</td>\n",
              "      <td>0</td>\n",
              "      <td>23.3</td>\n",
              "      <td>0.672</td>\n",
              "      <td>32</td>\n",
              "      <td>1</td>\n",
              "    </tr>\n",
              "    <tr>\n",
              "      <th>3</th>\n",
              "      <td>1</td>\n",
              "      <td>89</td>\n",
              "      <td>66</td>\n",
              "      <td>23</td>\n",
              "      <td>94</td>\n",
              "      <td>28.1</td>\n",
              "      <td>0.167</td>\n",
              "      <td>21</td>\n",
              "      <td>0</td>\n",
              "    </tr>\n",
              "    <tr>\n",
              "      <th>4</th>\n",
              "      <td>0</td>\n",
              "      <td>137</td>\n",
              "      <td>40</td>\n",
              "      <td>35</td>\n",
              "      <td>168</td>\n",
              "      <td>43.1</td>\n",
              "      <td>2.288</td>\n",
              "      <td>33</td>\n",
              "      <td>1</td>\n",
              "    </tr>\n",
              "  </tbody>\n",
              "</table>\n",
              "</div>"
            ],
            "text/plain": [
              "   Pregnancies  Glucose  BloodPressure  ...  DiabetesPedigreeFunction  Age  Outcome\n",
              "0            6      148             72  ...                     0.627   50        1\n",
              "1            1       85             66  ...                     0.351   31        0\n",
              "2            8      183             64  ...                     0.672   32        1\n",
              "3            1       89             66  ...                     0.167   21        0\n",
              "4            0      137             40  ...                     2.288   33        1\n",
              "\n",
              "[5 rows x 9 columns]"
            ]
          },
          "metadata": {
            "tags": []
          },
          "execution_count": 3
        }
      ]
    },
    {
      "cell_type": "code",
      "metadata": {
        "colab": {
          "base_uri": "https://localhost:8080/"
        },
        "id": "sxEzLBf0AnPa",
        "outputId": "760383b2-399f-4565-adc1-3ef84b658c62"
      },
      "source": [
        "df_diabetes.info()"
      ],
      "execution_count": null,
      "outputs": [
        {
          "output_type": "stream",
          "text": [
            "<class 'pandas.core.frame.DataFrame'>\n",
            "RangeIndex: 768 entries, 0 to 767\n",
            "Data columns (total 9 columns):\n",
            " #   Column                    Non-Null Count  Dtype  \n",
            "---  ------                    --------------  -----  \n",
            " 0   Pregnancies               768 non-null    int64  \n",
            " 1   Glucose                   768 non-null    int64  \n",
            " 2   BloodPressure             768 non-null    int64  \n",
            " 3   SkinThickness             768 non-null    int64  \n",
            " 4   Insulin                   768 non-null    int64  \n",
            " 5   BMI                       768 non-null    float64\n",
            " 6   DiabetesPedigreeFunction  768 non-null    float64\n",
            " 7   Age                       768 non-null    int64  \n",
            " 8   Outcome                   768 non-null    int64  \n",
            "dtypes: float64(2), int64(7)\n",
            "memory usage: 54.1 KB\n"
          ],
          "name": "stdout"
        }
      ]
    },
    {
      "cell_type": "code",
      "metadata": {
        "colab": {
          "base_uri": "https://localhost:8080/",
          "height": 297
        },
        "id": "mTbu2GHyAvLq",
        "outputId": "d2946c6e-4562-43c3-8f21-b67a025123fe"
      },
      "source": [
        "df_diabetes.describe()"
      ],
      "execution_count": null,
      "outputs": [
        {
          "output_type": "execute_result",
          "data": {
            "text/html": [
              "<div>\n",
              "<style scoped>\n",
              "    .dataframe tbody tr th:only-of-type {\n",
              "        vertical-align: middle;\n",
              "    }\n",
              "\n",
              "    .dataframe tbody tr th {\n",
              "        vertical-align: top;\n",
              "    }\n",
              "\n",
              "    .dataframe thead th {\n",
              "        text-align: right;\n",
              "    }\n",
              "</style>\n",
              "<table border=\"1\" class=\"dataframe\">\n",
              "  <thead>\n",
              "    <tr style=\"text-align: right;\">\n",
              "      <th></th>\n",
              "      <th>Pregnancies</th>\n",
              "      <th>Glucose</th>\n",
              "      <th>BloodPressure</th>\n",
              "      <th>SkinThickness</th>\n",
              "      <th>Insulin</th>\n",
              "      <th>BMI</th>\n",
              "      <th>DiabetesPedigreeFunction</th>\n",
              "      <th>Age</th>\n",
              "      <th>Outcome</th>\n",
              "    </tr>\n",
              "  </thead>\n",
              "  <tbody>\n",
              "    <tr>\n",
              "      <th>count</th>\n",
              "      <td>768.000000</td>\n",
              "      <td>768.000000</td>\n",
              "      <td>768.000000</td>\n",
              "      <td>768.000000</td>\n",
              "      <td>768.000000</td>\n",
              "      <td>768.000000</td>\n",
              "      <td>768.000000</td>\n",
              "      <td>768.000000</td>\n",
              "      <td>768.000000</td>\n",
              "    </tr>\n",
              "    <tr>\n",
              "      <th>mean</th>\n",
              "      <td>3.845052</td>\n",
              "      <td>120.894531</td>\n",
              "      <td>69.105469</td>\n",
              "      <td>20.536458</td>\n",
              "      <td>79.799479</td>\n",
              "      <td>31.992578</td>\n",
              "      <td>0.471876</td>\n",
              "      <td>33.240885</td>\n",
              "      <td>0.348958</td>\n",
              "    </tr>\n",
              "    <tr>\n",
              "      <th>std</th>\n",
              "      <td>3.369578</td>\n",
              "      <td>31.972618</td>\n",
              "      <td>19.355807</td>\n",
              "      <td>15.952218</td>\n",
              "      <td>115.244002</td>\n",
              "      <td>7.884160</td>\n",
              "      <td>0.331329</td>\n",
              "      <td>11.760232</td>\n",
              "      <td>0.476951</td>\n",
              "    </tr>\n",
              "    <tr>\n",
              "      <th>min</th>\n",
              "      <td>0.000000</td>\n",
              "      <td>0.000000</td>\n",
              "      <td>0.000000</td>\n",
              "      <td>0.000000</td>\n",
              "      <td>0.000000</td>\n",
              "      <td>0.000000</td>\n",
              "      <td>0.078000</td>\n",
              "      <td>21.000000</td>\n",
              "      <td>0.000000</td>\n",
              "    </tr>\n",
              "    <tr>\n",
              "      <th>25%</th>\n",
              "      <td>1.000000</td>\n",
              "      <td>99.000000</td>\n",
              "      <td>62.000000</td>\n",
              "      <td>0.000000</td>\n",
              "      <td>0.000000</td>\n",
              "      <td>27.300000</td>\n",
              "      <td>0.243750</td>\n",
              "      <td>24.000000</td>\n",
              "      <td>0.000000</td>\n",
              "    </tr>\n",
              "    <tr>\n",
              "      <th>50%</th>\n",
              "      <td>3.000000</td>\n",
              "      <td>117.000000</td>\n",
              "      <td>72.000000</td>\n",
              "      <td>23.000000</td>\n",
              "      <td>30.500000</td>\n",
              "      <td>32.000000</td>\n",
              "      <td>0.372500</td>\n",
              "      <td>29.000000</td>\n",
              "      <td>0.000000</td>\n",
              "    </tr>\n",
              "    <tr>\n",
              "      <th>75%</th>\n",
              "      <td>6.000000</td>\n",
              "      <td>140.250000</td>\n",
              "      <td>80.000000</td>\n",
              "      <td>32.000000</td>\n",
              "      <td>127.250000</td>\n",
              "      <td>36.600000</td>\n",
              "      <td>0.626250</td>\n",
              "      <td>41.000000</td>\n",
              "      <td>1.000000</td>\n",
              "    </tr>\n",
              "    <tr>\n",
              "      <th>max</th>\n",
              "      <td>17.000000</td>\n",
              "      <td>199.000000</td>\n",
              "      <td>122.000000</td>\n",
              "      <td>99.000000</td>\n",
              "      <td>846.000000</td>\n",
              "      <td>67.100000</td>\n",
              "      <td>2.420000</td>\n",
              "      <td>81.000000</td>\n",
              "      <td>1.000000</td>\n",
              "    </tr>\n",
              "  </tbody>\n",
              "</table>\n",
              "</div>"
            ],
            "text/plain": [
              "       Pregnancies     Glucose  ...         Age     Outcome\n",
              "count   768.000000  768.000000  ...  768.000000  768.000000\n",
              "mean      3.845052  120.894531  ...   33.240885    0.348958\n",
              "std       3.369578   31.972618  ...   11.760232    0.476951\n",
              "min       0.000000    0.000000  ...   21.000000    0.000000\n",
              "25%       1.000000   99.000000  ...   24.000000    0.000000\n",
              "50%       3.000000  117.000000  ...   29.000000    0.000000\n",
              "75%       6.000000  140.250000  ...   41.000000    1.000000\n",
              "max      17.000000  199.000000  ...   81.000000    1.000000\n",
              "\n",
              "[8 rows x 9 columns]"
            ]
          },
          "metadata": {
            "tags": []
          },
          "execution_count": 5
        }
      ]
    },
    {
      "cell_type": "code",
      "metadata": {
        "colab": {
          "base_uri": "https://localhost:8080/",
          "height": 248
        },
        "id": "xr2UttKSMBtR",
        "outputId": "39b1c22a-9e81-4d17-ce7e-58dcd7bab0dd"
      },
      "source": [
        "import matplotlib.pyplot as plt\n",
        "\n",
        "outcome_count = df_diabetes['Outcome'].value_counts()\n",
        "outcome_count\n",
        "\n",
        "# Pie chart, where the slices will be ordered and plotted counter-clockwise:\n",
        "labels = 'Positive', 'Negative'\n",
        "sizes = outcome_count\n",
        "explode = (0.1,0.1)\n",
        "\n",
        "fig1, ax1 = plt.subplots()\n",
        "ax1.pie(sizes, explode=explode, labels=labels, autopct='%1.1f%%', startangle=90)\n",
        "ax1.axis('equal')  # Equal aspect ratio ensures that pie is drawn as a circle.\n",
        "\n",
        "plt.show()"
      ],
      "execution_count": null,
      "outputs": [
        {
          "output_type": "display_data",
          "data": {
            "image/png": "[encoded data removed]",
            "text/plain": [
              "<Figure size 432x288 with 1 Axes>"
            ]
          },
          "metadata": {
            "tags": []
          }
        }
      ]
    },
    {
      "cell_type": "code",
      "metadata": {
        "id": "fsARVsknBslP"
      },
      "source": [
        "# memisahkan atribut fitur (selain target/ kelas prediksi)\n",
        "x = df_diabetes[df_diabetes.columns[:8]]\n",
        " \n",
        "# memisahkan target/ kelas prediksi (0 dan 1)\n",
        "y = df_diabetes['Outcome']"
      ],
      "execution_count": null,
      "outputs": []
    },
    {
      "cell_type": "code",
      "metadata": {
        "colab": {
          "base_uri": "https://localhost:8080/",
          "height": 419
        },
        "id": "LFV5yvPYIEy4",
        "outputId": "b391d93e-c772-46f6-a3d9-a4cffd9cfe4b"
      },
      "source": [
        "x"
      ],
      "execution_count": null,
      "outputs": [
        {
          "output_type": "execute_result",
          "data": {
            "text/html": [
              "<div>\n",
              "<style scoped>\n",
              "    .dataframe tbody tr th:only-of-type {\n",
              "        vertical-align: middle;\n",
              "    }\n",
              "\n",
              "    .dataframe tbody tr th {\n",
              "        vertical-align: top;\n",
              "    }\n",
              "\n",
              "    .dataframe thead th {\n",
              "        text-align: right;\n",
              "    }\n",
              "</style>\n",
              "<table border=\"1\" class=\"dataframe\">\n",
              "  <thead>\n",
              "    <tr style=\"text-align: right;\">\n",
              "      <th></th>\n",
              "      <th>Pregnancies</th>\n",
              "      <th>Glucose</th>\n",
              "      <th>BloodPressure</th>\n",
              "      <th>SkinThickness</th>\n",
              "      <th>Insulin</th>\n",
              "      <th>BMI</th>\n",
              "      <th>DiabetesPedigreeFunction</th>\n",
              "      <th>Age</th>\n",
              "    </tr>\n",
              "  </thead>\n",
              "  <tbody>\n",
              "    <tr>\n",
              "      <th>0</th>\n",
              "      <td>6</td>\n",
              "      <td>148</td>\n",
              "      <td>72</td>\n",
              "      <td>35</td>\n",
              "      <td>0</td>\n",
              "      <td>33.6</td>\n",
              "      <td>0.627</td>\n",
              "      <td>50</td>\n",
              "    </tr>\n",
              "    <tr>\n",
              "      <th>1</th>\n",
              "      <td>1</td>\n",
              "      <td>85</td>\n",
              "      <td>66</td>\n",
              "      <td>29</td>\n",
              "      <td>0</td>\n",
              "      <td>26.6</td>\n",
              "      <td>0.351</td>\n",
              "      <td>31</td>\n",
              "    </tr>\n",
              "    <tr>\n",
              "      <th>2</th>\n",
              "      <td>8</td>\n",
              "      <td>183</td>\n",
              "      <td>64</td>\n",
              "      <td>0</td>\n",
              "      <td>0</td>\n",
              "      <td>23.3</td>\n",
              "      <td>0.672</td>\n",
              "      <td>32</td>\n",
              "    </tr>\n",
              "    <tr>\n",
              "      <th>3</th>\n",
              "      <td>1</td>\n",
              "      <td>89</td>\n",
              "      <td>66</td>\n",
              "      <td>23</td>\n",
              "      <td>94</td>\n",
              "      <td>28.1</td>\n",
              "      <td>0.167</td>\n",
              "      <td>21</td>\n",
              "    </tr>\n",
              "    <tr>\n",
              "      <th>4</th>\n",
              "      <td>0</td>\n",
              "      <td>137</td>\n",
              "      <td>40</td>\n",
              "      <td>35</td>\n",
              "      <td>168</td>\n",
              "      <td>43.1</td>\n",
              "      <td>2.288</td>\n",
              "      <td>33</td>\n",
              "    </tr>\n",
              "    <tr>\n",
              "      <th>...</th>\n",
              "      <td>...</td>\n",
              "      <td>...</td>\n",
              "      <td>...</td>\n",
              "      <td>...</td>\n",
              "      <td>...</td>\n",
              "      <td>...</td>\n",
              "      <td>...</td>\n",
              "      <td>...</td>\n",
              "    </tr>\n",
              "    <tr>\n",
              "      <th>763</th>\n",
              "      <td>10</td>\n",
              "      <td>101</td>\n",
              "      <td>76</td>\n",
              "      <td>48</td>\n",
              "      <td>180</td>\n",
              "      <td>32.9</td>\n",
              "      <td>0.171</td>\n",
              "      <td>63</td>\n",
              "    </tr>\n",
              "    <tr>\n",
              "      <th>764</th>\n",
              "      <td>2</td>\n",
              "      <td>122</td>\n",
              "      <td>70</td>\n",
              "      <td>27</td>\n",
              "      <td>0</td>\n",
              "      <td>36.8</td>\n",
              "      <td>0.340</td>\n",
              "      <td>27</td>\n",
              "    </tr>\n",
              "    <tr>\n",
              "      <th>765</th>\n",
              "      <td>5</td>\n",
              "      <td>121</td>\n",
              "      <td>72</td>\n",
              "      <td>23</td>\n",
              "      <td>112</td>\n",
              "      <td>26.2</td>\n",
              "      <td>0.245</td>\n",
              "      <td>30</td>\n",
              "    </tr>\n",
              "    <tr>\n",
              "      <th>766</th>\n",
              "      <td>1</td>\n",
              "      <td>126</td>\n",
              "      <td>60</td>\n",
              "      <td>0</td>\n",
              "      <td>0</td>\n",
              "      <td>30.1</td>\n",
              "      <td>0.349</td>\n",
              "      <td>47</td>\n",
              "    </tr>\n",
              "    <tr>\n",
              "      <th>767</th>\n",
              "      <td>1</td>\n",
              "      <td>93</td>\n",
              "      <td>70</td>\n",
              "      <td>31</td>\n",
              "      <td>0</td>\n",
              "      <td>30.4</td>\n",
              "      <td>0.315</td>\n",
              "      <td>23</td>\n",
              "    </tr>\n",
              "  </tbody>\n",
              "</table>\n",
              "<p>768 rows × 8 columns</p>\n",
              "</div>"
            ],
            "text/plain": [
              "     Pregnancies  Glucose  BloodPressure  ...   BMI  DiabetesPedigreeFunction  Age\n",
              "0              6      148             72  ...  33.6                     0.627   50\n",
              "1              1       85             66  ...  26.6                     0.351   31\n",
              "2              8      183             64  ...  23.3                     0.672   32\n",
              "3              1       89             66  ...  28.1                     0.167   21\n",
              "4              0      137             40  ...  43.1                     2.288   33\n",
              "..           ...      ...            ...  ...   ...                       ...  ...\n",
              "763           10      101             76  ...  32.9                     0.171   63\n",
              "764            2      122             70  ...  36.8                     0.340   27\n",
              "765            5      121             72  ...  26.2                     0.245   30\n",
              "766            1      126             60  ...  30.1                     0.349   47\n",
              "767            1       93             70  ...  30.4                     0.315   23\n",
              "\n",
              "[768 rows x 8 columns]"
            ]
          },
          "metadata": {
            "tags": []
          },
          "execution_count": 7
        }
      ]
    },
    {
      "cell_type": "code",
      "metadata": {
        "id": "Fe6NvS5yCetH"
      },
      "source": [
        "# memisahkan data untuk training dan testing\n",
        "from sklearn.model_selection import train_test_split\n",
        "\n",
        "x_train, x_test, y_train, y_test = train_test_split(x, y, test_size=0.25, random_state=0)"
      ],
      "execution_count": null,
      "outputs": []
    },
    {
      "cell_type": "code",
      "metadata": {
        "id": "fHXr4KWwBfax"
      },
      "source": [
        "from time import time\n",
        "from sklearn.model_selection import train_test_split\n",
        "from keras.models import Sequential\n",
        "from keras.layers import Dense, Activation, Flatten\n",
        "from sklearn.ensemble import RandomForestClassifier\n",
        "from sklearn.metrics import f1_score\n",
        "from sklearn.metrics import accuracy_score\n",
        "from keras.callbacks import ModelCheckpoint"
      ],
      "execution_count": null,
      "outputs": []
    },
    {
      "cell_type": "code",
      "metadata": {
        "id": "0wgJmHieCVzw"
      },
      "source": [
        "parameters = {'bootstrap': True,\n",
        "              'min_samples_leaf': 3,\n",
        "              'n_estimators': 50, \n",
        "              'min_samples_split': 10,\n",
        "              'max_features': 'sqrt',\n",
        "              'max_depth': 6,\n",
        "              'max_leaf_nodes': None}"
      ],
      "execution_count": null,
      "outputs": []
    },
    {
      "cell_type": "markdown",
      "metadata": {
        "id": "YVfSksXrJYts"
      },
      "source": [
        "## **Using Random Forest**"
      ]
    },
    {
      "cell_type": "code",
      "metadata": {
        "id": "MQRKmvzGI_mk"
      },
      "source": [
        "RF_model = RandomForestClassifier(**parameters)"
      ],
      "execution_count": null,
      "outputs": []
    },
    {
      "cell_type": "code",
      "metadata": {
        "colab": {
          "base_uri": "https://localhost:8080/"
        },
        "id": "K9EiVq25JLBr",
        "outputId": "a0aa2440-6d12-4002-fc97-ceaffef61508"
      },
      "source": [
        "RF_model.fit(x_train, y_train)"
      ],
      "execution_count": null,
      "outputs": [
        {
          "output_type": "execute_result",
          "data": {
            "text/plain": [
              "RandomForestClassifier(bootstrap=True, ccp_alpha=0.0, class_weight=None,\n",
              "                       criterion='gini', max_depth=6, max_features='sqrt',\n",
              "                       max_leaf_nodes=None, max_samples=None,\n",
              "                       min_impurity_decrease=0.0, min_impurity_split=None,\n",
              "                       min_samples_leaf=3, min_samples_split=10,\n",
              "                       min_weight_fraction_leaf=0.0, n_estimators=50,\n",
              "                       n_jobs=None, oob_score=False, random_state=None,\n",
              "                       verbose=0, warm_start=False)"
            ]
          },
          "metadata": {
            "tags": []
          },
          "execution_count": 12
        }
      ]
    },
    {
      "cell_type": "code",
      "metadata": {
        "id": "dSVkxcz5JPxD"
      },
      "source": [
        "RF_predictions = RF_model.predict(x_test)"
      ],
      "execution_count": null,
      "outputs": []
    },
    {
      "cell_type": "code",
      "metadata": {
        "colab": {
          "base_uri": "https://localhost:8080/"
        },
        "id": "o-MDOvtNJTdq",
        "outputId": "26a3d2fc-e3e4-4447-e211-f0a928b815fb"
      },
      "source": [
        "score = accuracy_score(y_test ,RF_predictions)\n",
        "print('Accuracy Random Forest Model:',score)"
      ],
      "execution_count": null,
      "outputs": [
        {
          "output_type": "stream",
          "text": [
            "Accuracy Random Forest Model: 0.8020833333333334\n"
          ],
          "name": "stdout"
        }
      ]
    },
    {
      "cell_type": "markdown",
      "metadata": {
        "id": "mdNqepxBJdCS"
      },
      "source": [
        "## **Using Neural Network**"
      ]
    },
    {
      "cell_type": "code",
      "metadata": {
        "id": "R0qTQNL7Je_M"
      },
      "source": [
        "# Build a neural network :\n",
        "NN_model = Sequential()\n",
        "\n",
        "NN_model.add(Dense(256, input_dim = x.shape[1], activation='relu'))\n",
        "NN_model.add(Dense(256, activation='relu'))\n",
        "NN_model.add(Dense(256, activation='relu'))\n",
        "NN_model.add(Dense(256, activation='relu'))\n",
        "NN_model.add(Dense(1, activation='sigmoid'))\n",
        "NN_model.compile(loss='binary_crossentropy', optimizer='adam', metrics=['accuracy'])"
      ],
      "execution_count": null,
      "outputs": []
    },
    {
      "cell_type": "code",
      "metadata": {
        "id": "lNxKZucQJjJy"
      },
      "source": [
        "checkpoint_name = 'BestWeights.hdf5' \n",
        "checkpoint = ModelCheckpoint(checkpoint_name, monitor='val_accuracy', verbose = 1, save_best_only = True, mode ='max')\n",
        "callbacks_list = [checkpoint]"
      ],
      "execution_count": null,
      "outputs": []
    },
    {
      "cell_type": "code",
      "metadata": {
        "colab": {
          "base_uri": "https://localhost:8080/"
        },
        "id": "0BM-T1nkJyRV",
        "outputId": "4a25a8c9-2a28-4b91-cdaa-46a1e5c92476"
      },
      "source": [
        "t0_nn = time()\n",
        "NN_model.fit(x_train, y_train, epochs=150, batch_size=64, validation_split = 0.2, callbacks=callbacks_list)\n",
        "train_test_time = time() - t0_nn"
      ],
      "execution_count": null,
      "outputs": [
        {
          "output_type": "stream",
          "text": [
            "Epoch 1/150\n",
            "8/8 [==============================] - 1s 79ms/step - loss: 2.3177 - accuracy: 0.5082 - val_loss: 1.2266 - val_accuracy: 0.3793\n",
            "\n",
            "Epoch 00001: val_accuracy improved from -inf to 0.37931, saving model to BestWeights.hdf5\n",
            "Epoch 2/150\n",
            "8/8 [==============================] - 0s 13ms/step - loss: 0.9897 - accuracy: 0.5259 - val_loss: 0.7045 - val_accuracy: 0.6810\n",
            "\n",
            "Epoch 00002: val_accuracy improved from 0.37931 to 0.68103, saving model to BestWeights.hdf5\n",
            "Epoch 3/150\n",
            "8/8 [==============================] - 0s 13ms/step - loss: 0.6212 - accuracy: 0.6651 - val_loss: 0.7121 - val_accuracy: 0.5776\n",
            "\n",
            "Epoch 00003: val_accuracy did not improve from 0.68103\n",
            "Epoch 4/150\n",
            "8/8 [==============================] - 0s 12ms/step - loss: 0.6606 - accuracy: 0.6303 - val_loss: 0.7662 - val_accuracy: 0.6293\n",
            "\n",
            "Epoch 00004: val_accuracy did not improve from 0.68103\n",
            "Epoch 5/150\n",
            "8/8 [==============================] - 0s 15ms/step - loss: 0.6699 - accuracy: 0.6598 - val_loss: 0.7917 - val_accuracy: 0.6897\n",
            "\n",
            "Epoch 00005: val_accuracy improved from 0.68103 to 0.68966, saving model to BestWeights.hdf5\n",
            "Epoch 6/150\n",
            "8/8 [==============================] - 0s 13ms/step - loss: 0.6927 - accuracy: 0.6548 - val_loss: 0.9500 - val_accuracy: 0.6810\n",
            "\n",
            "Epoch 00006: val_accuracy did not improve from 0.68966\n",
            "Epoch 7/150\n",
            "8/8 [==============================] - 0s 14ms/step - loss: 0.6973 - accuracy: 0.6916 - val_loss: 0.7495 - val_accuracy: 0.6983\n",
            "\n",
            "Epoch 00007: val_accuracy improved from 0.68966 to 0.69828, saving model to BestWeights.hdf5\n",
            "Epoch 8/150\n",
            "8/8 [==============================] - 0s 13ms/step - loss: 0.6429 - accuracy: 0.6345 - val_loss: 0.6644 - val_accuracy: 0.6638\n",
            "\n",
            "Epoch 00008: val_accuracy did not improve from 0.69828\n",
            "Epoch 9/150\n",
            "8/8 [==============================] - 0s 13ms/step - loss: 0.5542 - accuracy: 0.7117 - val_loss: 0.6479 - val_accuracy: 0.6638\n",
            "\n",
            "Epoch 00009: val_accuracy did not improve from 0.69828\n",
            "Epoch 10/150\n",
            "8/8 [==============================] - 0s 14ms/step - loss: 0.5913 - accuracy: 0.6999 - val_loss: 0.7409 - val_accuracy: 0.7069\n",
            "\n",
            "Epoch 00010: val_accuracy improved from 0.69828 to 0.70690, saving model to BestWeights.hdf5\n",
            "Epoch 11/150\n",
            "8/8 [==============================] - 0s 15ms/step - loss: 0.6326 - accuracy: 0.6913 - val_loss: 0.8978 - val_accuracy: 0.7069\n",
            "\n",
            "Epoch 00011: val_accuracy did not improve from 0.70690\n",
            "Epoch 12/150\n",
            "8/8 [==============================] - 0s 14ms/step - loss: 0.7125 - accuracy: 0.6835 - val_loss: 0.7385 - val_accuracy: 0.7069\n",
            "\n",
            "Epoch 00012: val_accuracy did not improve from 0.70690\n",
            "Epoch 13/150\n",
            "8/8 [==============================] - 0s 14ms/step - loss: 0.6109 - accuracy: 0.6888 - val_loss: 0.6442 - val_accuracy: 0.5948\n",
            "\n",
            "Epoch 00013: val_accuracy did not improve from 0.70690\n",
            "Epoch 14/150\n",
            "8/8 [==============================] - 0s 18ms/step - loss: 0.5595 - accuracy: 0.7227 - val_loss: 0.6541 - val_accuracy: 0.6724\n",
            "\n",
            "Epoch 00014: val_accuracy did not improve from 0.70690\n",
            "Epoch 15/150\n",
            "8/8 [==============================] - 0s 16ms/step - loss: 0.5626 - accuracy: 0.7030 - val_loss: 0.7144 - val_accuracy: 0.5690\n",
            "\n",
            "Epoch 00015: val_accuracy did not improve from 0.70690\n",
            "Epoch 16/150\n",
            "8/8 [==============================] - 0s 13ms/step - loss: 0.6136 - accuracy: 0.6644 - val_loss: 0.6325 - val_accuracy: 0.6724\n",
            "\n",
            "Epoch 00016: val_accuracy did not improve from 0.70690\n",
            "Epoch 17/150\n",
            "8/8 [==============================] - 0s 16ms/step - loss: 0.5705 - accuracy: 0.7085 - val_loss: 0.6725 - val_accuracy: 0.6983\n",
            "\n",
            "Epoch 00017: val_accuracy did not improve from 0.70690\n",
            "Epoch 18/150\n",
            "8/8 [==============================] - 0s 13ms/step - loss: 0.5409 - accuracy: 0.7512 - val_loss: 0.6698 - val_accuracy: 0.7069\n",
            "\n",
            "Epoch 00018: val_accuracy did not improve from 0.70690\n",
            "Epoch 19/150\n",
            "8/8 [==============================] - 0s 13ms/step - loss: 0.5230 - accuracy: 0.7324 - val_loss: 0.7150 - val_accuracy: 0.6638\n",
            "\n",
            "Epoch 00019: val_accuracy did not improve from 0.70690\n",
            "Epoch 20/150\n",
            "8/8 [==============================] - 0s 14ms/step - loss: 0.5596 - accuracy: 0.7237 - val_loss: 0.6954 - val_accuracy: 0.7069\n",
            "\n",
            "Epoch 00020: val_accuracy did not improve from 0.70690\n",
            "Epoch 21/150\n",
            "8/8 [==============================] - 0s 13ms/step - loss: 0.6407 - accuracy: 0.6781 - val_loss: 0.6721 - val_accuracy: 0.6724\n",
            "\n",
            "Epoch 00021: val_accuracy did not improve from 0.70690\n",
            "Epoch 22/150\n",
            "8/8 [==============================] - 0s 13ms/step - loss: 0.5500 - accuracy: 0.7116 - val_loss: 0.6598 - val_accuracy: 0.6897\n",
            "\n",
            "Epoch 00022: val_accuracy did not improve from 0.70690\n",
            "Epoch 23/150\n",
            "8/8 [==============================] - 0s 13ms/step - loss: 0.5423 - accuracy: 0.7191 - val_loss: 0.6638 - val_accuracy: 0.6638\n",
            "\n",
            "Epoch 00023: val_accuracy did not improve from 0.70690\n",
            "Epoch 24/150\n",
            "8/8 [==============================] - 0s 13ms/step - loss: 0.4931 - accuracy: 0.7670 - val_loss: 0.6450 - val_accuracy: 0.6724\n",
            "\n",
            "Epoch 00024: val_accuracy did not improve from 0.70690\n",
            "Epoch 25/150\n",
            "8/8 [==============================] - 0s 14ms/step - loss: 0.5580 - accuracy: 0.7046 - val_loss: 0.6770 - val_accuracy: 0.6552\n",
            "\n",
            "Epoch 00025: val_accuracy did not improve from 0.70690\n",
            "Epoch 26/150\n",
            "8/8 [==============================] - 0s 16ms/step - loss: 0.5265 - accuracy: 0.7358 - val_loss: 0.6669 - val_accuracy: 0.6810\n",
            "\n",
            "Epoch 00026: val_accuracy did not improve from 0.70690\n",
            "Epoch 27/150\n",
            "8/8 [==============================] - 0s 14ms/step - loss: 0.5479 - accuracy: 0.7222 - val_loss: 0.8172 - val_accuracy: 0.6897\n",
            "\n",
            "Epoch 00027: val_accuracy did not improve from 0.70690\n",
            "Epoch 28/150\n",
            "8/8 [==============================] - 0s 13ms/step - loss: 0.6610 - accuracy: 0.6996 - val_loss: 0.6414 - val_accuracy: 0.6466\n",
            "\n",
            "Epoch 00028: val_accuracy did not improve from 0.70690\n",
            "Epoch 29/150\n",
            "8/8 [==============================] - 0s 13ms/step - loss: 0.4995 - accuracy: 0.7603 - val_loss: 0.6426 - val_accuracy: 0.6724\n",
            "\n",
            "Epoch 00029: val_accuracy did not improve from 0.70690\n",
            "Epoch 30/150\n",
            "8/8 [==============================] - 0s 13ms/step - loss: 0.5136 - accuracy: 0.7477 - val_loss: 0.6628 - val_accuracy: 0.6897\n",
            "\n",
            "Epoch 00030: val_accuracy did not improve from 0.70690\n",
            "Epoch 31/150\n",
            "8/8 [==============================] - 0s 13ms/step - loss: 0.5278 - accuracy: 0.7313 - val_loss: 0.7344 - val_accuracy: 0.6724\n",
            "\n",
            "Epoch 00031: val_accuracy did not improve from 0.70690\n",
            "Epoch 32/150\n",
            "8/8 [==============================] - 0s 13ms/step - loss: 0.6622 - accuracy: 0.6454 - val_loss: 0.6204 - val_accuracy: 0.6034\n",
            "\n",
            "Epoch 00032: val_accuracy did not improve from 0.70690\n",
            "Epoch 33/150\n",
            "8/8 [==============================] - 0s 12ms/step - loss: 0.5165 - accuracy: 0.7316 - val_loss: 0.6510 - val_accuracy: 0.6293\n",
            "\n",
            "Epoch 00033: val_accuracy did not improve from 0.70690\n",
            "Epoch 34/150\n",
            "8/8 [==============================] - 0s 13ms/step - loss: 0.4918 - accuracy: 0.7744 - val_loss: 0.5939 - val_accuracy: 0.6983\n",
            "\n",
            "Epoch 00034: val_accuracy did not improve from 0.70690\n",
            "Epoch 35/150\n",
            "8/8 [==============================] - 0s 12ms/step - loss: 0.5449 - accuracy: 0.7435 - val_loss: 0.6273 - val_accuracy: 0.6638\n",
            "\n",
            "Epoch 00035: val_accuracy did not improve from 0.70690\n",
            "Epoch 36/150\n",
            "8/8 [==============================] - 0s 16ms/step - loss: 0.5200 - accuracy: 0.7724 - val_loss: 0.6382 - val_accuracy: 0.6810\n",
            "\n",
            "Epoch 00036: val_accuracy did not improve from 0.70690\n",
            "Epoch 37/150\n",
            "8/8 [==============================] - 0s 14ms/step - loss: 0.5360 - accuracy: 0.7165 - val_loss: 0.6217 - val_accuracy: 0.6810\n",
            "\n",
            "Epoch 00037: val_accuracy did not improve from 0.70690\n",
            "Epoch 38/150\n",
            "8/8 [==============================] - 0s 13ms/step - loss: 0.5695 - accuracy: 0.7192 - val_loss: 0.6673 - val_accuracy: 0.6379\n",
            "\n",
            "Epoch 00038: val_accuracy did not improve from 0.70690\n",
            "Epoch 39/150\n",
            "8/8 [==============================] - 0s 13ms/step - loss: 0.5124 - accuracy: 0.7497 - val_loss: 0.6674 - val_accuracy: 0.7069\n",
            "\n",
            "Epoch 00039: val_accuracy did not improve from 0.70690\n",
            "Epoch 40/150\n",
            "8/8 [==============================] - 0s 14ms/step - loss: 0.5094 - accuracy: 0.7648 - val_loss: 0.6568 - val_accuracy: 0.6121\n",
            "\n",
            "Epoch 00040: val_accuracy did not improve from 0.70690\n",
            "Epoch 41/150\n",
            "8/8 [==============================] - 0s 14ms/step - loss: 0.4843 - accuracy: 0.7547 - val_loss: 0.6577 - val_accuracy: 0.7155\n",
            "\n",
            "Epoch 00041: val_accuracy improved from 0.70690 to 0.71552, saving model to BestWeights.hdf5\n",
            "Epoch 42/150\n",
            "8/8 [==============================] - 0s 13ms/step - loss: 0.5089 - accuracy: 0.7775 - val_loss: 0.6424 - val_accuracy: 0.6379\n",
            "\n",
            "Epoch 00042: val_accuracy did not improve from 0.71552\n",
            "Epoch 43/150\n",
            "8/8 [==============================] - 0s 13ms/step - loss: 0.4581 - accuracy: 0.7795 - val_loss: 0.6370 - val_accuracy: 0.6983\n",
            "\n",
            "Epoch 00043: val_accuracy did not improve from 0.71552\n",
            "Epoch 44/150\n",
            "8/8 [==============================] - 0s 13ms/step - loss: 0.4550 - accuracy: 0.7959 - val_loss: 0.6479 - val_accuracy: 0.6466\n",
            "\n",
            "Epoch 00044: val_accuracy did not improve from 0.71552\n",
            "Epoch 45/150\n",
            "8/8 [==============================] - 0s 15ms/step - loss: 0.4607 - accuracy: 0.7949 - val_loss: 0.6162 - val_accuracy: 0.6379\n",
            "\n",
            "Epoch 00045: val_accuracy did not improve from 0.71552\n",
            "Epoch 46/150\n",
            "8/8 [==============================] - 0s 12ms/step - loss: 0.4609 - accuracy: 0.7880 - val_loss: 0.6545 - val_accuracy: 0.6638\n",
            "\n",
            "Epoch 00046: val_accuracy did not improve from 0.71552\n",
            "Epoch 47/150\n",
            "8/8 [==============================] - 0s 12ms/step - loss: 0.4652 - accuracy: 0.7640 - val_loss: 0.6809 - val_accuracy: 0.7328\n",
            "\n",
            "Epoch 00047: val_accuracy improved from 0.71552 to 0.73276, saving model to BestWeights.hdf5\n",
            "Epoch 48/150\n",
            "8/8 [==============================] - 0s 14ms/step - loss: 0.4901 - accuracy: 0.7602 - val_loss: 0.6359 - val_accuracy: 0.6466\n",
            "\n",
            "Epoch 00048: val_accuracy did not improve from 0.73276\n",
            "Epoch 49/150\n",
            "8/8 [==============================] - 0s 13ms/step - loss: 0.5024 - accuracy: 0.7582 - val_loss: 0.6617 - val_accuracy: 0.6552\n",
            "\n",
            "Epoch 00049: val_accuracy did not improve from 0.73276\n",
            "Epoch 50/150\n",
            "8/8 [==============================] - 0s 13ms/step - loss: 0.4717 - accuracy: 0.7922 - val_loss: 0.6695 - val_accuracy: 0.7155\n",
            "\n",
            "Epoch 00050: val_accuracy did not improve from 0.73276\n",
            "Epoch 51/150\n",
            "8/8 [==============================] - 0s 13ms/step - loss: 0.4825 - accuracy: 0.7447 - val_loss: 0.6395 - val_accuracy: 0.6897\n",
            "\n",
            "Epoch 00051: val_accuracy did not improve from 0.73276\n",
            "Epoch 52/150\n",
            "8/8 [==============================] - 0s 14ms/step - loss: 0.4908 - accuracy: 0.7589 - val_loss: 0.6700 - val_accuracy: 0.6207\n",
            "\n",
            "Epoch 00052: val_accuracy did not improve from 0.73276\n",
            "Epoch 53/150\n",
            "8/8 [==============================] - 0s 13ms/step - loss: 0.5363 - accuracy: 0.7490 - val_loss: 0.6456 - val_accuracy: 0.7069\n",
            "\n",
            "Epoch 00053: val_accuracy did not improve from 0.73276\n",
            "Epoch 54/150\n",
            "8/8 [==============================] - 0s 17ms/step - loss: 0.4815 - accuracy: 0.7830 - val_loss: 0.6597 - val_accuracy: 0.6724\n",
            "\n",
            "Epoch 00054: val_accuracy did not improve from 0.73276\n",
            "Epoch 55/150\n",
            "8/8 [==============================] - 0s 12ms/step - loss: 0.4646 - accuracy: 0.7788 - val_loss: 0.6451 - val_accuracy: 0.6293\n",
            "\n",
            "Epoch 00055: val_accuracy did not improve from 0.73276\n",
            "Epoch 56/150\n",
            "8/8 [==============================] - 0s 14ms/step - loss: 0.4761 - accuracy: 0.7811 - val_loss: 0.6416 - val_accuracy: 0.6379\n",
            "\n",
            "Epoch 00056: val_accuracy did not improve from 0.73276\n",
            "Epoch 57/150\n",
            "8/8 [==============================] - 0s 13ms/step - loss: 0.4635 - accuracy: 0.7880 - val_loss: 0.6523 - val_accuracy: 0.6724\n",
            "\n",
            "Epoch 00057: val_accuracy did not improve from 0.73276\n",
            "Epoch 58/150\n",
            "8/8 [==============================] - 0s 13ms/step - loss: 0.4611 - accuracy: 0.7765 - val_loss: 0.6685 - val_accuracy: 0.6466\n",
            "\n",
            "Epoch 00058: val_accuracy did not improve from 0.73276\n",
            "Epoch 59/150\n",
            "8/8 [==============================] - 0s 13ms/step - loss: 0.4598 - accuracy: 0.7752 - val_loss: 0.6927 - val_accuracy: 0.6466\n",
            "\n",
            "Epoch 00059: val_accuracy did not improve from 0.73276\n",
            "Epoch 60/150\n",
            "8/8 [==============================] - 0s 13ms/step - loss: 0.4681 - accuracy: 0.7594 - val_loss: 0.7307 - val_accuracy: 0.6552\n",
            "\n",
            "Epoch 00060: val_accuracy did not improve from 0.73276\n",
            "Epoch 61/150\n",
            "8/8 [==============================] - 0s 14ms/step - loss: 0.4438 - accuracy: 0.7970 - val_loss: 0.6305 - val_accuracy: 0.6466\n",
            "\n",
            "Epoch 00061: val_accuracy did not improve from 0.73276\n",
            "Epoch 62/150\n",
            "8/8 [==============================] - 0s 14ms/step - loss: 0.4337 - accuracy: 0.8028 - val_loss: 0.6809 - val_accuracy: 0.6466\n",
            "\n",
            "Epoch 00062: val_accuracy did not improve from 0.73276\n",
            "Epoch 63/150\n",
            "8/8 [==============================] - 0s 15ms/step - loss: 0.4230 - accuracy: 0.8015 - val_loss: 0.6741 - val_accuracy: 0.6810\n",
            "\n",
            "Epoch 00063: val_accuracy did not improve from 0.73276\n",
            "Epoch 64/150\n",
            "8/8 [==============================] - 0s 13ms/step - loss: 0.4400 - accuracy: 0.8014 - val_loss: 0.6891 - val_accuracy: 0.6724\n",
            "\n",
            "Epoch 00064: val_accuracy did not improve from 0.73276\n",
            "Epoch 65/150\n",
            "8/8 [==============================] - 0s 14ms/step - loss: 0.4408 - accuracy: 0.7946 - val_loss: 0.6466 - val_accuracy: 0.6466\n",
            "\n",
            "Epoch 00065: val_accuracy did not improve from 0.73276\n",
            "Epoch 66/150\n",
            "8/8 [==============================] - 0s 13ms/step - loss: 0.4867 - accuracy: 0.7691 - val_loss: 0.6712 - val_accuracy: 0.6207\n",
            "\n",
            "Epoch 00066: val_accuracy did not improve from 0.73276\n",
            "Epoch 67/150\n",
            "8/8 [==============================] - 0s 14ms/step - loss: 0.4498 - accuracy: 0.7710 - val_loss: 0.7050 - val_accuracy: 0.7155\n",
            "\n",
            "Epoch 00067: val_accuracy did not improve from 0.73276\n",
            "Epoch 68/150\n",
            "8/8 [==============================] - 0s 14ms/step - loss: 0.4636 - accuracy: 0.7967 - val_loss: 0.6761 - val_accuracy: 0.6983\n",
            "\n",
            "Epoch 00068: val_accuracy did not improve from 0.73276\n",
            "Epoch 69/150\n",
            "8/8 [==============================] - 0s 13ms/step - loss: 0.4348 - accuracy: 0.7861 - val_loss: 0.6416 - val_accuracy: 0.6293\n",
            "\n",
            "Epoch 00069: val_accuracy did not improve from 0.73276\n",
            "Epoch 70/150\n",
            "8/8 [==============================] - 0s 13ms/step - loss: 0.4387 - accuracy: 0.7795 - val_loss: 0.6713 - val_accuracy: 0.6897\n",
            "\n",
            "Epoch 00070: val_accuracy did not improve from 0.73276\n",
            "Epoch 71/150\n",
            "8/8 [==============================] - 0s 14ms/step - loss: 0.4336 - accuracy: 0.7798 - val_loss: 0.6676 - val_accuracy: 0.6552\n",
            "\n",
            "Epoch 00071: val_accuracy did not improve from 0.73276\n",
            "Epoch 72/150\n",
            "8/8 [==============================] - 0s 13ms/step - loss: 0.4353 - accuracy: 0.8013 - val_loss: 0.6400 - val_accuracy: 0.6552\n",
            "\n",
            "Epoch 00072: val_accuracy did not improve from 0.73276\n",
            "Epoch 73/150\n",
            "8/8 [==============================] - 0s 14ms/step - loss: 0.4459 - accuracy: 0.7685 - val_loss: 0.6916 - val_accuracy: 0.6466\n",
            "\n",
            "Epoch 00073: val_accuracy did not improve from 0.73276\n",
            "Epoch 74/150\n",
            "8/8 [==============================] - 0s 13ms/step - loss: 0.5227 - accuracy: 0.7223 - val_loss: 0.6795 - val_accuracy: 0.7241\n",
            "\n",
            "Epoch 00074: val_accuracy did not improve from 0.73276\n",
            "Epoch 75/150\n",
            "8/8 [==============================] - 0s 12ms/step - loss: 0.4292 - accuracy: 0.7876 - val_loss: 0.7153 - val_accuracy: 0.6466\n",
            "\n",
            "Epoch 00075: val_accuracy did not improve from 0.73276\n",
            "Epoch 76/150\n",
            "8/8 [==============================] - 0s 11ms/step - loss: 0.4721 - accuracy: 0.7884 - val_loss: 0.6455 - val_accuracy: 0.6724\n",
            "\n",
            "Epoch 00076: val_accuracy did not improve from 0.73276\n",
            "Epoch 77/150\n",
            "8/8 [==============================] - 0s 11ms/step - loss: 0.4487 - accuracy: 0.7806 - val_loss: 0.7217 - val_accuracy: 0.6810\n",
            "\n",
            "Epoch 00077: val_accuracy did not improve from 0.73276\n",
            "Epoch 78/150\n",
            "8/8 [==============================] - 0s 12ms/step - loss: 0.4196 - accuracy: 0.8082 - val_loss: 0.6397 - val_accuracy: 0.6638\n",
            "\n",
            "Epoch 00078: val_accuracy did not improve from 0.73276\n",
            "Epoch 79/150\n",
            "8/8 [==============================] - 0s 12ms/step - loss: 0.4263 - accuracy: 0.8269 - val_loss: 0.6779 - val_accuracy: 0.6810\n",
            "\n",
            "Epoch 00079: val_accuracy did not improve from 0.73276\n",
            "Epoch 80/150\n",
            "8/8 [==============================] - 0s 11ms/step - loss: 0.4229 - accuracy: 0.7936 - val_loss: 0.7184 - val_accuracy: 0.7414\n",
            "\n",
            "Epoch 00080: val_accuracy improved from 0.73276 to 0.74138, saving model to BestWeights.hdf5\n",
            "Epoch 81/150\n",
            "8/8 [==============================] - 0s 12ms/step - loss: 0.4269 - accuracy: 0.8105 - val_loss: 0.6649 - val_accuracy: 0.6724\n",
            "\n",
            "Epoch 00081: val_accuracy did not improve from 0.74138\n",
            "Epoch 82/150\n",
            "8/8 [==============================] - 0s 12ms/step - loss: 0.4522 - accuracy: 0.7893 - val_loss: 0.6399 - val_accuracy: 0.6897\n",
            "\n",
            "Epoch 00082: val_accuracy did not improve from 0.74138\n",
            "Epoch 83/150\n",
            "8/8 [==============================] - 0s 10ms/step - loss: 0.4462 - accuracy: 0.7752 - val_loss: 0.5931 - val_accuracy: 0.6810\n",
            "\n",
            "Epoch 00083: val_accuracy did not improve from 0.74138\n",
            "Epoch 84/150\n",
            "8/8 [==============================] - 0s 11ms/step - loss: 0.4151 - accuracy: 0.8236 - val_loss: 0.6566 - val_accuracy: 0.6897\n",
            "\n",
            "Epoch 00084: val_accuracy did not improve from 0.74138\n",
            "Epoch 85/150\n",
            "8/8 [==============================] - 0s 13ms/step - loss: 0.4507 - accuracy: 0.7836 - val_loss: 0.7047 - val_accuracy: 0.6293\n",
            "\n",
            "Epoch 00085: val_accuracy did not improve from 0.74138\n",
            "Epoch 86/150\n",
            "8/8 [==============================] - 0s 16ms/step - loss: 0.5376 - accuracy: 0.7384 - val_loss: 0.6318 - val_accuracy: 0.7328\n",
            "\n",
            "Epoch 00086: val_accuracy did not improve from 0.74138\n",
            "Epoch 87/150\n",
            "8/8 [==============================] - 0s 14ms/step - loss: 0.4444 - accuracy: 0.7889 - val_loss: 0.6862 - val_accuracy: 0.6724\n",
            "\n",
            "Epoch 00087: val_accuracy did not improve from 0.74138\n",
            "Epoch 88/150\n",
            "8/8 [==============================] - 0s 14ms/step - loss: 0.4565 - accuracy: 0.7949 - val_loss: 0.6328 - val_accuracy: 0.6552\n",
            "\n",
            "Epoch 00088: val_accuracy did not improve from 0.74138\n",
            "Epoch 89/150\n",
            "8/8 [==============================] - 0s 13ms/step - loss: 0.3920 - accuracy: 0.8360 - val_loss: 0.6238 - val_accuracy: 0.6897\n",
            "\n",
            "Epoch 00089: val_accuracy did not improve from 0.74138\n",
            "Epoch 90/150\n",
            "8/8 [==============================] - 0s 15ms/step - loss: 0.4017 - accuracy: 0.8070 - val_loss: 0.6852 - val_accuracy: 0.6724\n",
            "\n",
            "Epoch 00090: val_accuracy did not improve from 0.74138\n",
            "Epoch 91/150\n",
            "8/8 [==============================] - 0s 14ms/step - loss: 0.3709 - accuracy: 0.8194 - val_loss: 0.7038 - val_accuracy: 0.6466\n",
            "\n",
            "Epoch 00091: val_accuracy did not improve from 0.74138\n",
            "Epoch 92/150\n",
            "8/8 [==============================] - 0s 15ms/step - loss: 0.4406 - accuracy: 0.7764 - val_loss: 0.6917 - val_accuracy: 0.6466\n",
            "\n",
            "Epoch 00092: val_accuracy did not improve from 0.74138\n",
            "Epoch 93/150\n",
            "8/8 [==============================] - 0s 13ms/step - loss: 0.4090 - accuracy: 0.8084 - val_loss: 0.6617 - val_accuracy: 0.6638\n",
            "\n",
            "Epoch 00093: val_accuracy did not improve from 0.74138\n",
            "Epoch 94/150\n",
            "8/8 [==============================] - 0s 11ms/step - loss: 0.4341 - accuracy: 0.8105 - val_loss: 0.6905 - val_accuracy: 0.6897\n",
            "\n",
            "Epoch 00094: val_accuracy did not improve from 0.74138\n",
            "Epoch 95/150\n",
            "8/8 [==============================] - 0s 11ms/step - loss: 0.4063 - accuracy: 0.8339 - val_loss: 0.7040 - val_accuracy: 0.6552\n",
            "\n",
            "Epoch 00095: val_accuracy did not improve from 0.74138\n",
            "Epoch 96/150\n",
            "8/8 [==============================] - 0s 11ms/step - loss: 0.4092 - accuracy: 0.8255 - val_loss: 0.7703 - val_accuracy: 0.6552\n",
            "\n",
            "Epoch 00096: val_accuracy did not improve from 0.74138\n",
            "Epoch 97/150\n",
            "8/8 [==============================] - 0s 11ms/step - loss: 0.4457 - accuracy: 0.7834 - val_loss: 0.6878 - val_accuracy: 0.6552\n",
            "\n",
            "Epoch 00097: val_accuracy did not improve from 0.74138\n",
            "Epoch 98/150\n",
            "8/8 [==============================] - 0s 11ms/step - loss: 0.4205 - accuracy: 0.8127 - val_loss: 0.7548 - val_accuracy: 0.6983\n",
            "\n",
            "Epoch 00098: val_accuracy did not improve from 0.74138\n",
            "Epoch 99/150\n",
            "8/8 [==============================] - 0s 11ms/step - loss: 0.4023 - accuracy: 0.7933 - val_loss: 0.7692 - val_accuracy: 0.6552\n",
            "\n",
            "Epoch 00099: val_accuracy did not improve from 0.74138\n",
            "Epoch 100/150\n",
            "8/8 [==============================] - 0s 12ms/step - loss: 0.3857 - accuracy: 0.8128 - val_loss: 0.6903 - val_accuracy: 0.6466\n",
            "\n",
            "Epoch 00100: val_accuracy did not improve from 0.74138\n",
            "Epoch 101/150\n",
            "8/8 [==============================] - 0s 11ms/step - loss: 0.4145 - accuracy: 0.7975 - val_loss: 0.7374 - val_accuracy: 0.6724\n",
            "\n",
            "Epoch 00101: val_accuracy did not improve from 0.74138\n",
            "Epoch 102/150\n",
            "8/8 [==============================] - 0s 12ms/step - loss: 0.3540 - accuracy: 0.8511 - val_loss: 0.7323 - val_accuracy: 0.6724\n",
            "\n",
            "Epoch 00102: val_accuracy did not improve from 0.74138\n",
            "Epoch 103/150\n",
            "8/8 [==============================] - 0s 11ms/step - loss: 0.3652 - accuracy: 0.8414 - val_loss: 0.7292 - val_accuracy: 0.6466\n",
            "\n",
            "Epoch 00103: val_accuracy did not improve from 0.74138\n",
            "Epoch 104/150\n",
            "8/8 [==============================] - 0s 10ms/step - loss: 0.4065 - accuracy: 0.8091 - val_loss: 0.6636 - val_accuracy: 0.6638\n",
            "\n",
            "Epoch 00104: val_accuracy did not improve from 0.74138\n",
            "Epoch 105/150\n",
            "8/8 [==============================] - 0s 14ms/step - loss: 0.3759 - accuracy: 0.8124 - val_loss: 0.7891 - val_accuracy: 0.6897\n",
            "\n",
            "Epoch 00105: val_accuracy did not improve from 0.74138\n",
            "Epoch 106/150\n",
            "8/8 [==============================] - 0s 14ms/step - loss: 0.4052 - accuracy: 0.8194 - val_loss: 0.7936 - val_accuracy: 0.6638\n",
            "\n",
            "Epoch 00106: val_accuracy did not improve from 0.74138\n",
            "Epoch 107/150\n",
            "8/8 [==============================] - 0s 12ms/step - loss: 0.3707 - accuracy: 0.8289 - val_loss: 0.7179 - val_accuracy: 0.6552\n",
            "\n",
            "Epoch 00107: val_accuracy did not improve from 0.74138\n",
            "Epoch 108/150\n",
            "8/8 [==============================] - 0s 13ms/step - loss: 0.3879 - accuracy: 0.8191 - val_loss: 0.7375 - val_accuracy: 0.6724\n",
            "\n",
            "Epoch 00108: val_accuracy did not improve from 0.74138\n",
            "Epoch 109/150\n",
            "8/8 [==============================] - 0s 13ms/step - loss: 0.3493 - accuracy: 0.8488 - val_loss: 0.8031 - val_accuracy: 0.6466\n",
            "\n",
            "Epoch 00109: val_accuracy did not improve from 0.74138\n",
            "Epoch 110/150\n",
            "8/8 [==============================] - 0s 14ms/step - loss: 0.3684 - accuracy: 0.8369 - val_loss: 0.7781 - val_accuracy: 0.6552\n",
            "\n",
            "Epoch 00110: val_accuracy did not improve from 0.74138\n",
            "Epoch 111/150\n",
            "8/8 [==============================] - 0s 18ms/step - loss: 0.3914 - accuracy: 0.8204 - val_loss: 0.8364 - val_accuracy: 0.6293\n",
            "\n",
            "Epoch 00111: val_accuracy did not improve from 0.74138\n",
            "Epoch 112/150\n",
            "8/8 [==============================] - 0s 13ms/step - loss: 0.4078 - accuracy: 0.8062 - val_loss: 0.8524 - val_accuracy: 0.7241\n",
            "\n",
            "Epoch 00112: val_accuracy did not improve from 0.74138\n",
            "Epoch 113/150\n",
            "8/8 [==============================] - 0s 12ms/step - loss: 0.4853 - accuracy: 0.7864 - val_loss: 0.8215 - val_accuracy: 0.6466\n",
            "\n",
            "Epoch 00113: val_accuracy did not improve from 0.74138\n",
            "Epoch 114/150\n",
            "8/8 [==============================] - 0s 13ms/step - loss: 0.3807 - accuracy: 0.8127 - val_loss: 0.7297 - val_accuracy: 0.6466\n",
            "\n",
            "Epoch 00114: val_accuracy did not improve from 0.74138\n",
            "Epoch 115/150\n",
            "8/8 [==============================] - 0s 14ms/step - loss: 0.3822 - accuracy: 0.8271 - val_loss: 0.7553 - val_accuracy: 0.6638\n",
            "\n",
            "Epoch 00115: val_accuracy did not improve from 0.74138\n",
            "Epoch 116/150\n",
            "8/8 [==============================] - 0s 16ms/step - loss: 0.3737 - accuracy: 0.8256 - val_loss: 0.9175 - val_accuracy: 0.6983\n",
            "\n",
            "Epoch 00116: val_accuracy did not improve from 0.74138\n",
            "Epoch 117/150\n",
            "8/8 [==============================] - 0s 14ms/step - loss: 0.3677 - accuracy: 0.8320 - val_loss: 0.7738 - val_accuracy: 0.6552\n",
            "\n",
            "Epoch 00117: val_accuracy did not improve from 0.74138\n",
            "Epoch 118/150\n",
            "8/8 [==============================] - 0s 13ms/step - loss: 0.3534 - accuracy: 0.8505 - val_loss: 0.7990 - val_accuracy: 0.6293\n",
            "\n",
            "Epoch 00118: val_accuracy did not improve from 0.74138\n",
            "Epoch 119/150\n",
            "8/8 [==============================] - 0s 14ms/step - loss: 0.3747 - accuracy: 0.8249 - val_loss: 0.7637 - val_accuracy: 0.6552\n",
            "\n",
            "Epoch 00119: val_accuracy did not improve from 0.74138\n",
            "Epoch 120/150\n",
            "8/8 [==============================] - 0s 18ms/step - loss: 0.3509 - accuracy: 0.8689 - val_loss: 0.8213 - val_accuracy: 0.6983\n",
            "\n",
            "Epoch 00120: val_accuracy did not improve from 0.74138\n",
            "Epoch 121/150\n",
            "8/8 [==============================] - 0s 13ms/step - loss: 0.3118 - accuracy: 0.8668 - val_loss: 0.8518 - val_accuracy: 0.6379\n",
            "\n",
            "Epoch 00121: val_accuracy did not improve from 0.74138\n",
            "Epoch 122/150\n",
            "8/8 [==============================] - 0s 13ms/step - loss: 0.2982 - accuracy: 0.8733 - val_loss: 0.8529 - val_accuracy: 0.6983\n",
            "\n",
            "Epoch 00122: val_accuracy did not improve from 0.74138\n",
            "Epoch 123/150\n",
            "8/8 [==============================] - 0s 14ms/step - loss: 0.2886 - accuracy: 0.8686 - val_loss: 0.8501 - val_accuracy: 0.6724\n",
            "\n",
            "Epoch 00123: val_accuracy did not improve from 0.74138\n",
            "Epoch 124/150\n",
            "8/8 [==============================] - 0s 14ms/step - loss: 0.2840 - accuracy: 0.8721 - val_loss: 0.8745 - val_accuracy: 0.6897\n",
            "\n",
            "Epoch 00124: val_accuracy did not improve from 0.74138\n",
            "Epoch 125/150\n",
            "8/8 [==============================] - 0s 14ms/step - loss: 0.2962 - accuracy: 0.8738 - val_loss: 0.8746 - val_accuracy: 0.6638\n",
            "\n",
            "Epoch 00125: val_accuracy did not improve from 0.74138\n",
            "Epoch 126/150\n",
            "8/8 [==============================] - 0s 14ms/step - loss: 0.3002 - accuracy: 0.8682 - val_loss: 0.9092 - val_accuracy: 0.6638\n",
            "\n",
            "Epoch 00126: val_accuracy did not improve from 0.74138\n",
            "Epoch 127/150\n",
            "8/8 [==============================] - 0s 13ms/step - loss: 0.3066 - accuracy: 0.8631 - val_loss: 0.8928 - val_accuracy: 0.6207\n",
            "\n",
            "Epoch 00127: val_accuracy did not improve from 0.74138\n",
            "Epoch 128/150\n",
            "8/8 [==============================] - 0s 14ms/step - loss: 0.3254 - accuracy: 0.8316 - val_loss: 0.9196 - val_accuracy: 0.6552\n",
            "\n",
            "Epoch 00128: val_accuracy did not improve from 0.74138\n",
            "Epoch 129/150\n",
            "8/8 [==============================] - 0s 15ms/step - loss: 0.3059 - accuracy: 0.8748 - val_loss: 0.8792 - val_accuracy: 0.6810\n",
            "\n",
            "Epoch 00129: val_accuracy did not improve from 0.74138\n",
            "Epoch 130/150\n",
            "8/8 [==============================] - 0s 13ms/step - loss: 0.2818 - accuracy: 0.8873 - val_loss: 0.9188 - val_accuracy: 0.6810\n",
            "\n",
            "Epoch 00130: val_accuracy did not improve from 0.74138\n",
            "Epoch 131/150\n",
            "8/8 [==============================] - 0s 14ms/step - loss: 0.2868 - accuracy: 0.8710 - val_loss: 0.8791 - val_accuracy: 0.6724\n",
            "\n",
            "Epoch 00131: val_accuracy did not improve from 0.74138\n",
            "Epoch 132/150\n",
            "8/8 [==============================] - 0s 13ms/step - loss: 0.2769 - accuracy: 0.8692 - val_loss: 1.0122 - val_accuracy: 0.6552\n",
            "\n",
            "Epoch 00132: val_accuracy did not improve from 0.74138\n",
            "Epoch 133/150\n",
            "8/8 [==============================] - 0s 14ms/step - loss: 0.2920 - accuracy: 0.8581 - val_loss: 0.8425 - val_accuracy: 0.6724\n",
            "\n",
            "Epoch 00133: val_accuracy did not improve from 0.74138\n",
            "Epoch 134/150\n",
            "8/8 [==============================] - 0s 16ms/step - loss: 0.3371 - accuracy: 0.8607 - val_loss: 0.8466 - val_accuracy: 0.6638\n",
            "\n",
            "Epoch 00134: val_accuracy did not improve from 0.74138\n",
            "Epoch 135/150\n",
            "8/8 [==============================] - 0s 14ms/step - loss: 0.3057 - accuracy: 0.8700 - val_loss: 0.9707 - val_accuracy: 0.6638\n",
            "\n",
            "Epoch 00135: val_accuracy did not improve from 0.74138\n",
            "Epoch 136/150\n",
            "8/8 [==============================] - 0s 13ms/step - loss: 0.3106 - accuracy: 0.8510 - val_loss: 0.8142 - val_accuracy: 0.6552\n",
            "\n",
            "Epoch 00136: val_accuracy did not improve from 0.74138\n",
            "Epoch 137/150\n",
            "8/8 [==============================] - 0s 13ms/step - loss: 0.3043 - accuracy: 0.8755 - val_loss: 0.8436 - val_accuracy: 0.6207\n",
            "\n",
            "Epoch 00137: val_accuracy did not improve from 0.74138\n",
            "Epoch 138/150\n",
            "8/8 [==============================] - 0s 15ms/step - loss: 0.4595 - accuracy: 0.8337 - val_loss: 0.9594 - val_accuracy: 0.6897\n",
            "\n",
            "Epoch 00138: val_accuracy did not improve from 0.74138\n",
            "Epoch 139/150\n",
            "8/8 [==============================] - 0s 14ms/step - loss: 0.3642 - accuracy: 0.8318 - val_loss: 0.7441 - val_accuracy: 0.6552\n",
            "\n",
            "Epoch 00139: val_accuracy did not improve from 0.74138\n",
            "Epoch 140/150\n",
            "8/8 [==============================] - 0s 14ms/step - loss: 0.3683 - accuracy: 0.8498 - val_loss: 0.7525 - val_accuracy: 0.6638\n",
            "\n",
            "Epoch 00140: val_accuracy did not improve from 0.74138\n",
            "Epoch 141/150\n",
            "8/8 [==============================] - 0s 13ms/step - loss: 0.3831 - accuracy: 0.8156 - val_loss: 0.8386 - val_accuracy: 0.6983\n",
            "\n",
            "Epoch 00141: val_accuracy did not improve from 0.74138\n",
            "Epoch 142/150\n",
            "8/8 [==============================] - 0s 13ms/step - loss: 0.4012 - accuracy: 0.8192 - val_loss: 0.7518 - val_accuracy: 0.6724\n",
            "\n",
            "Epoch 00142: val_accuracy did not improve from 0.74138\n",
            "Epoch 143/150\n",
            "8/8 [==============================] - 0s 13ms/step - loss: 0.3489 - accuracy: 0.8519 - val_loss: 0.8209 - val_accuracy: 0.6724\n",
            "\n",
            "Epoch 00143: val_accuracy did not improve from 0.74138\n",
            "Epoch 144/150\n",
            "8/8 [==============================] - 0s 15ms/step - loss: 0.3034 - accuracy: 0.8664 - val_loss: 0.7571 - val_accuracy: 0.6638\n",
            "\n",
            "Epoch 00144: val_accuracy did not improve from 0.74138\n",
            "Epoch 145/150\n",
            "8/8 [==============================] - 0s 13ms/step - loss: 0.2820 - accuracy: 0.8936 - val_loss: 0.7873 - val_accuracy: 0.6466\n",
            "\n",
            "Epoch 00145: val_accuracy did not improve from 0.74138\n",
            "Epoch 146/150\n",
            "8/8 [==============================] - 0s 13ms/step - loss: 0.2598 - accuracy: 0.8996 - val_loss: 0.8817 - val_accuracy: 0.6638\n",
            "\n",
            "Epoch 00146: val_accuracy did not improve from 0.74138\n",
            "Epoch 147/150\n",
            "8/8 [==============================] - 0s 16ms/step - loss: 0.2564 - accuracy: 0.8993 - val_loss: 0.8067 - val_accuracy: 0.6810\n",
            "\n",
            "Epoch 00147: val_accuracy did not improve from 0.74138\n",
            "Epoch 148/150\n",
            "8/8 [==============================] - 0s 14ms/step - loss: 0.2484 - accuracy: 0.8956 - val_loss: 0.8963 - val_accuracy: 0.6638\n",
            "\n",
            "Epoch 00148: val_accuracy did not improve from 0.74138\n",
            "Epoch 149/150\n",
            "8/8 [==============================] - 0s 13ms/step - loss: 0.2438 - accuracy: 0.8812 - val_loss: 0.8622 - val_accuracy: 0.6724\n",
            "\n",
            "Epoch 00149: val_accuracy did not improve from 0.74138\n",
            "Epoch 150/150\n",
            "8/8 [==============================] - 0s 14ms/step - loss: 0.2674 - accuracy: 0.8964 - val_loss: 0.9084 - val_accuracy: 0.6466\n",
            "\n",
            "Epoch 00150: val_accuracy did not improve from 0.74138\n"
          ],
          "name": "stdout"
        }
      ]
    },
    {
      "cell_type": "code",
      "metadata": {
        "id": "QVualffJJ118"
      },
      "source": [
        "# Load wights file of the best model :\n",
        "wights_file = './BestWeights.hdf5' # choose the best checkpoint \n",
        "NN_model.load_weights(wights_file) # load weights\n",
        "NN_model.compile(loss='binary_crossentropy', optimizer='adam', metrics=['accuracy'])"
      ],
      "execution_count": null,
      "outputs": []
    },
    {
      "cell_type": "code",
      "metadata": {
        "id": "jboGZBt_KBJT"
      },
      "source": [
        "predictions = NN_model.predict(x_test)"
      ],
      "execution_count": null,
      "outputs": []
    },
    {
      "cell_type": "code",
      "metadata": {
        "id": "dgh2gRclKDWC"
      },
      "source": [
        "# round predictions\n",
        "rounded = [round(x[0]) for x in predictions]\n",
        "predictions = rounded"
      ],
      "execution_count": null,
      "outputs": []
    },
    {
      "cell_type": "code",
      "metadata": {
        "colab": {
          "base_uri": "https://localhost:8080/"
        },
        "id": "DhQl1kplKFvS",
        "outputId": "356718f0-690c-47b4-c9f9-5e55625403d3"
      },
      "source": [
        "score = accuracy_score(y_test ,predictions)\n",
        "print('Test Accuracy:',score)"
      ],
      "execution_count": null,
      "outputs": [
        {
          "output_type": "stream",
          "text": [
            "Test Accuracy: 0.703125\n"
          ],
          "name": "stdout"
        }
      ]
    },
    {
      "cell_type": "markdown",
      "metadata": {
        "id": "MxGJtedgKKYP"
      },
      "source": [
        "## **Other Classifier**"
      ]
    },
    {
      "cell_type": "code",
      "metadata": {
        "id": "iBM2QLYlKNMi"
      },
      "source": [
        "from sklearn.pipeline import Pipeline\n",
        "from sklearn.metrics import accuracy_score\n",
        "\n",
        "# models\n",
        "from sklearn.linear_model import LogisticRegression\n",
        "from sklearn.svm import SVC\n",
        "from sklearn.ensemble import RandomForestClassifier, GradientBoostingClassifier, ExtraTreesClassifier \n",
        "from sklearn.ensemble import BaggingClassifier, AdaBoostClassifier\n",
        "from sklearn.naive_bayes import GaussianNB\n",
        "from sklearn.neighbors import KNeighborsClassifier\n",
        "from sklearn.neural_network import MLPClassifier\n",
        "from sklearn.tree import DecisionTreeClassifier\n",
        "from xgboost import XGBClassifier\n",
        "from lightgbm import LGBMClassifier"
      ],
      "execution_count": null,
      "outputs": []
    },
    {
      "cell_type": "code",
      "metadata": {
        "id": "WTEBco7EKbYx"
      },
      "source": [
        "names = [ 'Neural Network',\n",
        "          'Logistic Regression',\n",
        "          'SVC',\n",
        "          'Gradient Boosting Classifier',\n",
        "          'Extra Trees Classifier',\n",
        "          'Bagging Classifier',\n",
        "          'AdaBoost Classifier',\n",
        "          'Gaussian NB',\n",
        "          'MLP Classifier',\n",
        "          'XGB Classifier',\n",
        "          'LGBM Classisfier',\n",
        "          \"K Nearest Neighbour Classifier\",\n",
        "          \"Decison Tree Classifier\",\n",
        "          \"Random Forest Classifier\",\n",
        "         ]\n",
        "classifiers = [\n",
        "    NN_model,           \n",
        "    LogisticRegression(),\n",
        "    SVC(),\n",
        "    GradientBoostingClassifier(),\n",
        "    ExtraTreesClassifier(),\n",
        "    BaggingClassifier(),\n",
        "    AdaBoostClassifier(),\n",
        "    GaussianNB(),\n",
        "    MLPClassifier(),\n",
        "    XGBClassifier(),\n",
        "    LGBMClassifier(),\n",
        "    KNeighborsClassifier(),\n",
        "    DecisionTreeClassifier(),\n",
        "    RandomForestClassifier(),\n",
        "        ]\n",
        "\n",
        "# Zipped all architecture\n",
        "zipped_clf = zip(names,classifiers)"
      ],
      "execution_count": null,
      "outputs": []
    },
    {
      "cell_type": "code",
      "metadata": {
        "id": "Z-SWlR1iKdwz"
      },
      "source": [
        "import warnings\n",
        "# untuk menghapus warning\n",
        "warnings.filterwarnings('ignore')\n",
        "\n",
        "# fungsi accuracy testing \n",
        "def acc_summary(model, train_X, train_y, val_X, val_y):\n",
        "    t0 = time()\n",
        "    model.fit(train_X, train_y)\n",
        "    pred_y = model.predict(val_X)\n",
        "    train_test_time = time() - t0\n",
        "    accuracy = accuracy_score(val_y, pred_y)*100\n",
        "    print(\"accuracy : {0:.2f}%\".format(accuracy))\n",
        "    print(\"train and test time: {0:.2f}s\".format(train_test_time))\n",
        "    print(\"-\"*80)\n",
        "    return accuracy, train_test_time\n",
        "\n",
        "# fungsi komparator\n",
        "def classifier_comparator(train_X,train_y,val_X,val_y,classifier=zipped_clf):\n",
        "    result = []\n",
        "    for n,c in classifier:\n",
        "      if n=='Neural Network': # for only neural network\n",
        "        predictions = NN_model.predict(x_test)\n",
        "        # round predictions\n",
        "        rounded = [round(x[0]) for x in predictions]\n",
        "        predictions = rounded\n",
        "        score = accuracy_score(val_y, predictions)*100\n",
        "        print(\"Test result for {}\".format(n))\n",
        "        print(\"train and test time: {0:.2f}s\".format(train_test_time))\n",
        "        print(\"accuracy : {0:.2f}%\".format(score))\n",
        "        print(\"-\"*80)\n",
        "        result.append((c,n,score,train_test_time))\n",
        "      else:\n",
        "        checker_pipeline = Pipeline([\n",
        "            ('classifier', c)\n",
        "        ])\n",
        "        print(\"Validation result for {}\".format(n))\n",
        "        #print(c)\n",
        "        clf_acc,tt_time = acc_summary(checker_pipeline,train_X, train_y, val_X, val_y)\n",
        "        result.append((c,n,clf_acc,tt_time))\n",
        "    return result"
      ],
      "execution_count": null,
      "outputs": []
    },
    {
      "cell_type": "code",
      "metadata": {
        "colab": {
          "base_uri": "https://localhost:8080/"
        },
        "id": "Qz7kn2n9K7QQ",
        "outputId": "e4356d93-afca-4988-9dc8-b91480a5e6e3"
      },
      "source": [
        "result = classifier_comparator(x_train, y_train, x_test, y_test)"
      ],
      "execution_count": null,
      "outputs": [
        {
          "output_type": "stream",
          "text": [
            "Test result for Neural Network\n",
            "train and test time: 18.03s\n",
            "accuracy : 70.31%\n",
            "--------------------------------------------------------------------------------\n",
            "Validation result for Logistic Regression\n",
            "accuracy : 79.17%\n",
            "train and test time: 0.03s\n",
            "--------------------------------------------------------------------------------\n",
            "Validation result for SVC\n",
            "accuracy : 77.08%\n",
            "train and test time: 0.01s\n",
            "--------------------------------------------------------------------------------\n",
            "Validation result for Gradient Boosting Classifier\n",
            "accuracy : 80.21%\n",
            "train and test time: 0.14s\n",
            "--------------------------------------------------------------------------------\n",
            "Validation result for Extra Trees Classifier\n",
            "accuracy : 76.04%\n",
            "train and test time: 0.15s\n",
            "--------------------------------------------------------------------------------\n",
            "Validation result for Bagging Classifier\n",
            "accuracy : 77.08%\n",
            "train and test time: 0.03s\n",
            "--------------------------------------------------------------------------------\n",
            "Validation result for AdaBoost Classifier\n",
            "accuracy : 79.17%\n",
            "train and test time: 0.11s\n",
            "--------------------------------------------------------------------------------\n",
            "Validation result for Gaussian NB\n",
            "accuracy : 76.56%\n",
            "train and test time: 0.00s\n",
            "--------------------------------------------------------------------------------\n",
            "Validation result for MLP Classifier\n",
            "accuracy : 69.79%\n",
            "train and test time: 0.61s\n",
            "--------------------------------------------------------------------------------\n",
            "Validation result for XGB Classifier\n",
            "accuracy : 79.69%\n",
            "train and test time: 0.09s\n",
            "--------------------------------------------------------------------------------\n",
            "Validation result for LGBM Classisfier\n",
            "accuracy : 78.65%\n",
            "train and test time: 0.07s\n",
            "--------------------------------------------------------------------------------\n",
            "Validation result for K Nearest Neighbour Classifier\n",
            "accuracy : 75.52%\n",
            "train and test time: 0.01s\n",
            "--------------------------------------------------------------------------------\n",
            "Validation result for Decison Tree Classifier\n",
            "accuracy : 73.44%\n",
            "train and test time: 0.00s\n",
            "--------------------------------------------------------------------------------\n",
            "Validation result for Random Forest Classifier\n",
            "accuracy : 78.12%\n",
            "train and test time: 0.21s\n",
            "--------------------------------------------------------------------------------\n"
          ],
          "name": "stdout"
        }
      ]
    },
    {
      "cell_type": "markdown",
      "metadata": {
        "id": "WSHXyPeMLcnQ"
      },
      "source": [
        "## **Plotting**"
      ]
    },
    {
      "cell_type": "code",
      "metadata": {
        "id": "kEf-MVn7Ld9A"
      },
      "source": [
        "# Plotting models\n",
        "import matplotlib.pyplot as plt\n",
        "import seaborn as sns"
      ],
      "execution_count": null,
      "outputs": []
    },
    {
      "cell_type": "code",
      "metadata": {
        "id": "iOYIUp28Lfdx"
      },
      "source": [
        "# get name and score models\n",
        "n = [v[1] for v in result]\n",
        "s = [v[2] for v in result]"
      ],
      "execution_count": null,
      "outputs": []
    },
    {
      "cell_type": "code",
      "metadata": {
        "colab": {
          "base_uri": "https://localhost:8080/",
          "height": 400
        },
        "id": "1qLku8oKLg9w",
        "outputId": "00f41ceb-efe3-4e48-f1eb-62fb8fddad3f"
      },
      "source": [
        "# Visualisasi model\n",
        "plt.figure()\n",
        "sns.barplot(x = n, y = s)\n",
        "\n",
        "plt.title(\"Plotting Test Result\")\n",
        "plt.xlabel('Model Name')\n",
        "\n",
        "plt.xticks(rotation=45, ha='right', size=10)\n",
        "plt.yticks(size=10)\n",
        "plt.ylabel('Accuracy Score')\n",
        "\n",
        "plt.show()"
      ],
      "execution_count": null,
      "outputs": [
        {
          "output_type": "display_data",
          "data": {
            "image/png": "[encoded data removed]",
            "text/plain": [
              "<Figure size 432x288 with 1 Axes>"
            ]
          },
          "metadata": {
            "tags": [],
            "needs_background": "light"
          }
        }
      ]
    },
    {
      "cell_type": "markdown",
      "metadata": {
        "id": "l9tbblNJLvKX"
      },
      "source": [
        "## **Feature Importance**"
      ]
    },
    {
      "cell_type": "code",
      "metadata": {
        "id": "7T3PAj9tLw_g"
      },
      "source": [
        "# get best models [-1] is random forest and next [0] is index to model to get feature importance, and zipped with X column  \n",
        "importances = sorted([(a,b) for a,b in zip(result[-1][0].feature_importances_, x.columns)],reverse=True)\n",
        "n = [ni for si,ni in importances]\n",
        "s = [si for si,ni in importances]"
      ],
      "execution_count": null,
      "outputs": []
    },
    {
      "cell_type": "code",
      "metadata": {
        "colab": {
          "base_uri": "https://localhost:8080/",
          "height": 371
        },
        "id": "1cmcBnH-LzNW",
        "outputId": "d08e70f3-819d-412c-9ee7-ef169c83818f"
      },
      "source": [
        "# Plot the feature importances of the forest\n",
        "plt.figure()\n",
        "plt.title(\"Feature importances\")\n",
        "plt.bar(n,s)\n",
        "plt.xticks(rotation=45, ha='right', size=10)\n",
        "plt.yticks(size=10)\n",
        "plt.show()"
      ],
      "execution_count": null,
      "outputs": [
        {
          "output_type": "display_data",
          "data": {
            "image/png": "[encoded data removed]",
            "text/plain": [
              "<Figure size 432x288 with 1 Axes>"
            ]
          },
          "metadata": {
            "tags": [],
            "needs_background": "light"
          }
        }
      ]
    },
    {
      "cell_type": "markdown",
      "metadata": {
        "id": "xVsqeh6yMFgU"
      },
      "source": [
        "## **Ensemble Learning**"
      ]
    },
    {
      "cell_type": "code",
      "metadata": {
        "colab": {
          "base_uri": "https://localhost:8080/"
        },
        "id": "kkPw0yt5MHuP",
        "outputId": "6a4ba429-87c1-4e83-d2ce-42b64b35eb14"
      },
      "source": [
        "# Install and Import Dependencies\n",
        "!pip install vecstack\n",
        "from vecstack import stacking "
      ],
      "execution_count": null,
      "outputs": [
        {
          "output_type": "stream",
          "text": [
            "Collecting vecstack\n",
            "  Downloading https://files.pythonhosted.org/packages/d0/a1/b9a1e9e9e5a12078da1ab9788c7885e4c745358f7e57d5f94d9db6a4e898/vecstack-0.4.0.tar.gz\n",
            "Requirement already satisfied: numpy in /usr/local/lib/python3.7/dist-packages (from vecstack) (1.19.5)\n",
            "Requirement already satisfied: scipy in /usr/local/lib/python3.7/dist-packages (from vecstack) (1.4.1)\n",
            "Requirement already satisfied: scikit-learn>=0.18 in /usr/local/lib/python3.7/dist-packages (from vecstack) (0.22.2.post1)\n",
            "Requirement already satisfied: joblib>=0.11 in /usr/local/lib/python3.7/dist-packages (from scikit-learn>=0.18->vecstack) (1.0.1)\n",
            "Building wheels for collected packages: vecstack\n",
            "  Building wheel for vecstack (setup.py) ... \u001b[?25l\u001b[?25hdone\n",
            "  Created wheel for vecstack: filename=vecstack-0.4.0-cp37-none-any.whl size=19877 sha256=087966139a3e970b30807475ca1e31b397f19f285c47a1c21963b66e9acbafc5\n",
            "  Stored in directory: /root/.cache/pip/wheels/5f/bb/4e/f6488433d53bc0684673d6845e5bf11a25240577c8151c140e\n",
            "Successfully built vecstack\n",
            "Installing collected packages: vecstack\n",
            "Successfully installed vecstack-0.4.0\n"
          ],
          "name": "stdout"
        }
      ]
    },
    {
      "cell_type": "code",
      "metadata": {
        "colab": {
          "base_uri": "https://localhost:8080/"
        },
        "id": "3rEKwYhDMKri",
        "outputId": "0a75ac31-f271-43cf-b489-de1f1378bc82"
      },
      "source": [
        "# get all models, 1-st level.\n",
        "models = [v[0] for v in result[1:]] # tanpa neural network\n",
        "print('Number of model:',len(models))\n",
        "\n",
        "t0 = time()\n",
        "\n",
        "# Compute stacking features\n",
        "S_train, S_test = stacking(models, x_train, y_train, x_test, n_folds = 3, metric=accuracy_score, shuffle = True, random_state = 7, verbose = 1)\n",
        "\n",
        "# Initialize 2-nd level model\n",
        "model = models[-1]\n",
        "\n",
        "# Fit 2-nd level model\n",
        "model = model.fit(S_train, y_train)\n",
        "\n",
        "# Predict\n",
        "y_test_pred = model.predict(S_test)\n",
        "\n",
        "train_test_time = time() - t0"
      ],
      "execution_count": null,
      "outputs": [
        {
          "output_type": "stream",
          "text": [
            "Number of model: 13\n",
            "task:         [regression]\n",
            "metric:       [accuracy_score]\n",
            "mode:         [oof_pred_bag]\n",
            "n_models:     [13]\n",
            "\n",
            "model  0:     [LogisticRegression]\n",
            "    ----\n",
            "    MEAN:     [0.76041667] + [0.01473139]\n",
            "    FULL:     [0.76041667]\n",
            "\n",
            "model  1:     [SVC]\n",
            "    ----\n",
            "    MEAN:     [0.72222222] + [0.02009694]\n",
            "    FULL:     [0.72222222]\n",
            "\n",
            "model  2:     [GradientBoostingClassifier]\n",
            "    ----\n",
            "    MEAN:     [0.74479167] + [0.01533292]\n",
            "    FULL:     [0.74479167]\n",
            "\n",
            "model  3:     [ExtraTreesClassifier]\n",
            "    ----\n",
            "    MEAN:     [0.73958333] + [0.02250257]\n",
            "    FULL:     [0.73958333]\n",
            "\n",
            "model  4:     [BaggingClassifier]\n",
            "    ----\n",
            "    MEAN:     [0.75000000] + [0.01533292]\n",
            "    FULL:     [0.75000000]\n",
            "\n",
            "model  5:     [AdaBoostClassifier]\n",
            "    ----\n",
            "    MEAN:     [0.72743056] + [0.02734031]\n",
            "    FULL:     [0.72743056]\n",
            "\n",
            "model  6:     [GaussianNB]\n",
            "    ----\n",
            "    MEAN:     [0.75520833] + [0.02655739]\n",
            "    FULL:     [0.75520833]\n",
            "\n",
            "model  7:     [MLPClassifier]\n",
            "    ----\n",
            "    MEAN:     [0.68402778] + [0.01718662]\n",
            "    FULL:     [0.68402778]\n",
            "\n",
            "model  8:     [XGBClassifier]\n",
            "    ----\n",
            "    MEAN:     [0.74826389] + [0.01718662]\n",
            "    FULL:     [0.74826389]\n",
            "\n",
            "model  9:     [LGBMClassifier]\n",
            "    ----\n",
            "    MEAN:     [0.72916667] + [0.02250257]\n",
            "    FULL:     [0.72916667]\n",
            "\n",
            "model 10:     [KNeighborsClassifier]\n",
            "    ----\n",
            "    MEAN:     [0.70312500] + [0.01533292]\n",
            "    FULL:     [0.70312500]\n",
            "\n",
            "model 11:     [DecisionTreeClassifier]\n",
            "    ----\n",
            "    MEAN:     [0.69791667] + [0.02655739]\n",
            "    FULL:     [0.69791667]\n",
            "\n",
            "model 12:     [RandomForestClassifier]\n",
            "    ----\n",
            "    MEAN:     [0.73611111] + [0.01610003]\n",
            "    FULL:     [0.73611111]\n",
            "\n"
          ],
          "name": "stdout"
        }
      ]
    },
    {
      "cell_type": "code",
      "metadata": {
        "colab": {
          "base_uri": "https://localhost:8080/"
        },
        "id": "ai9B-vQzMUyr",
        "outputId": "8df7afb4-20b7-4b02-adbf-2d183da16fb1"
      },
      "source": [
        "## Print vecstack result \n",
        "accuracy = accuracy_score(y_test, y_test_pred)*100\n",
        "print(\"Stacking accuracy : {0:.2f}%\".format(accuracy))\n",
        "print(\"train and test time: {0:.2f}s\".format(train_test_time))"
      ],
      "execution_count": null,
      "outputs": [
        {
          "output_type": "stream",
          "text": [
            "Stacking accuracy : 77.08%\n",
            "train and test time: 3.66s\n"
          ],
          "name": "stdout"
        }
      ]
    }
  ]
}